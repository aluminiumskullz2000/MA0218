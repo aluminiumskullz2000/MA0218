{
 "cells": [
  {
   "cell_type": "markdown",
   "id": "e7d9351b",
   "metadata": {},
   "source": [
    "# Prediction on Injury and Severity of Aviation Accidents\n",
    "## MA0218 Mini Project\n",
    "### AY2022/23 MA9 Group 5"
   ]
  },
  {
   "cell_type": "markdown",
   "id": "e0da4ef9",
   "metadata": {},
   "source": [
    "### Essential Library\n",
    "Let's import the necessary library"
   ]
  },
  {
   "cell_type": "code",
   "execution_count": 1,
   "id": "dacd8636",
   "metadata": {},
   "outputs": [
    {
     "data": {
      "text/plain": [
       "<function seaborn.rcmod.set(*args, **kwargs)>"
      ]
     },
     "execution_count": 1,
     "metadata": {},
     "output_type": "execute_result"
    }
   ],
   "source": [
    "import numpy as np                      # a library that offers comprehensive mathematical functions\n",
    "import pandas as pd                     # a library crucial for data acquisation and preparation\n",
    "import seaborn as sb                    # a library for statistical data visualisation\n",
    "import matplotlib.pyplot as plt         # a library for statistical data visualisation\n",
    "sb.set  "
   ]
  },
  {
   "cell_type": "markdown",
   "id": "6ab74bb4",
   "metadata": {},
   "source": [
    "To ignore unnecessary warning , we will be importing the following library. "
   ]
  },
  {
   "cell_type": "code",
   "execution_count": 2,
   "id": "7700207e",
   "metadata": {},
   "outputs": [],
   "source": [
    "import warnings\n",
    "warnings.filterwarnings('ignore')"
   ]
  },
  {
   "cell_type": "markdown",
   "id": "c86e0d9d",
   "metadata": {},
   "source": [
    "### A glace at dataset\n",
    "We import the dataset which is in csv format with `read_csv` from the pandas library."
   ]
  },
  {
   "cell_type": "code",
   "execution_count": 3,
   "id": "ff72e719",
   "metadata": {},
   "outputs": [
    {
     "data": {
      "text/html": [
       "<div>\n",
       "<style scoped>\n",
       "    .dataframe tbody tr th:only-of-type {\n",
       "        vertical-align: middle;\n",
       "    }\n",
       "\n",
       "    .dataframe tbody tr th {\n",
       "        vertical-align: top;\n",
       "    }\n",
       "\n",
       "    .dataframe thead th {\n",
       "        text-align: right;\n",
       "    }\n",
       "</style>\n",
       "<table border=\"1\" class=\"dataframe\">\n",
       "  <thead>\n",
       "    <tr style=\"text-align: right;\">\n",
       "      <th></th>\n",
       "      <th>Event.Id</th>\n",
       "      <th>Investigation.Type</th>\n",
       "      <th>Accident.Number</th>\n",
       "      <th>Event.Date</th>\n",
       "      <th>Location</th>\n",
       "      <th>Country</th>\n",
       "      <th>Latitude</th>\n",
       "      <th>Longitude</th>\n",
       "      <th>Airport.Code</th>\n",
       "      <th>Airport.Name</th>\n",
       "      <th>...</th>\n",
       "      <th>Purpose.of.flight</th>\n",
       "      <th>Air.carrier</th>\n",
       "      <th>Total.Fatal.Injuries</th>\n",
       "      <th>Total.Serious.Injuries</th>\n",
       "      <th>Total.Minor.Injuries</th>\n",
       "      <th>Total.Uninjured</th>\n",
       "      <th>Weather.Condition</th>\n",
       "      <th>Broad.phase.of.flight</th>\n",
       "      <th>Report.Status</th>\n",
       "      <th>Publication.Date</th>\n",
       "    </tr>\n",
       "  </thead>\n",
       "  <tbody>\n",
       "    <tr>\n",
       "      <th>0</th>\n",
       "      <td>20001218X45444</td>\n",
       "      <td>Accident</td>\n",
       "      <td>SEA87LA080</td>\n",
       "      <td>24/10/1948</td>\n",
       "      <td>MOOSE CREEK, ID</td>\n",
       "      <td>United States</td>\n",
       "      <td>NaN</td>\n",
       "      <td>NaN</td>\n",
       "      <td>NaN</td>\n",
       "      <td>NaN</td>\n",
       "      <td>...</td>\n",
       "      <td>Personal</td>\n",
       "      <td>NaN</td>\n",
       "      <td>2.0</td>\n",
       "      <td>0.0</td>\n",
       "      <td>0.0</td>\n",
       "      <td>0.0</td>\n",
       "      <td>UNK</td>\n",
       "      <td>Cruise</td>\n",
       "      <td>Probable Cause</td>\n",
       "      <td>NaN</td>\n",
       "    </tr>\n",
       "    <tr>\n",
       "      <th>1</th>\n",
       "      <td>20001218X45447</td>\n",
       "      <td>Accident</td>\n",
       "      <td>LAX94LA336</td>\n",
       "      <td>19/7/1962</td>\n",
       "      <td>BRIDGEPORT, CA</td>\n",
       "      <td>United States</td>\n",
       "      <td>NaN</td>\n",
       "      <td>NaN</td>\n",
       "      <td>NaN</td>\n",
       "      <td>NaN</td>\n",
       "      <td>...</td>\n",
       "      <td>Personal</td>\n",
       "      <td>NaN</td>\n",
       "      <td>4.0</td>\n",
       "      <td>0.0</td>\n",
       "      <td>0.0</td>\n",
       "      <td>0.0</td>\n",
       "      <td>UNK</td>\n",
       "      <td>Unknown</td>\n",
       "      <td>Probable Cause</td>\n",
       "      <td>19/9/1996</td>\n",
       "    </tr>\n",
       "    <tr>\n",
       "      <th>2</th>\n",
       "      <td>20061025X01555</td>\n",
       "      <td>Accident</td>\n",
       "      <td>NYC07LA005</td>\n",
       "      <td>30/8/1974</td>\n",
       "      <td>Saltville, VA</td>\n",
       "      <td>United States</td>\n",
       "      <td>36.922223</td>\n",
       "      <td>-81.878056</td>\n",
       "      <td>NaN</td>\n",
       "      <td>NaN</td>\n",
       "      <td>...</td>\n",
       "      <td>Personal</td>\n",
       "      <td>NaN</td>\n",
       "      <td>3.0</td>\n",
       "      <td>NaN</td>\n",
       "      <td>NaN</td>\n",
       "      <td>NaN</td>\n",
       "      <td>IMC</td>\n",
       "      <td>Cruise</td>\n",
       "      <td>Probable Cause</td>\n",
       "      <td>26/2/2007</td>\n",
       "    </tr>\n",
       "    <tr>\n",
       "      <th>3</th>\n",
       "      <td>20001218X45448</td>\n",
       "      <td>Accident</td>\n",
       "      <td>LAX96LA321</td>\n",
       "      <td>19/6/1977</td>\n",
       "      <td>EUREKA, CA</td>\n",
       "      <td>United States</td>\n",
       "      <td>NaN</td>\n",
       "      <td>NaN</td>\n",
       "      <td>NaN</td>\n",
       "      <td>NaN</td>\n",
       "      <td>...</td>\n",
       "      <td>Personal</td>\n",
       "      <td>NaN</td>\n",
       "      <td>2.0</td>\n",
       "      <td>0.0</td>\n",
       "      <td>0.0</td>\n",
       "      <td>0.0</td>\n",
       "      <td>IMC</td>\n",
       "      <td>Cruise</td>\n",
       "      <td>Probable Cause</td>\n",
       "      <td>12/9/2000</td>\n",
       "    </tr>\n",
       "    <tr>\n",
       "      <th>4</th>\n",
       "      <td>20041105X01764</td>\n",
       "      <td>Accident</td>\n",
       "      <td>CHI79FA064</td>\n",
       "      <td>2/8/1979</td>\n",
       "      <td>Canton, OH</td>\n",
       "      <td>United States</td>\n",
       "      <td>NaN</td>\n",
       "      <td>NaN</td>\n",
       "      <td>NaN</td>\n",
       "      <td>NaN</td>\n",
       "      <td>...</td>\n",
       "      <td>Personal</td>\n",
       "      <td>NaN</td>\n",
       "      <td>1.0</td>\n",
       "      <td>2.0</td>\n",
       "      <td>NaN</td>\n",
       "      <td>0.0</td>\n",
       "      <td>VMC</td>\n",
       "      <td>Approach</td>\n",
       "      <td>Probable Cause</td>\n",
       "      <td>16/4/1980</td>\n",
       "    </tr>\n",
       "    <tr>\n",
       "      <th>...</th>\n",
       "      <td>...</td>\n",
       "      <td>...</td>\n",
       "      <td>...</td>\n",
       "      <td>...</td>\n",
       "      <td>...</td>\n",
       "      <td>...</td>\n",
       "      <td>...</td>\n",
       "      <td>...</td>\n",
       "      <td>...</td>\n",
       "      <td>...</td>\n",
       "      <td>...</td>\n",
       "      <td>...</td>\n",
       "      <td>...</td>\n",
       "      <td>...</td>\n",
       "      <td>...</td>\n",
       "      <td>...</td>\n",
       "      <td>...</td>\n",
       "      <td>...</td>\n",
       "      <td>...</td>\n",
       "      <td>...</td>\n",
       "      <td>...</td>\n",
       "    </tr>\n",
       "    <tr>\n",
       "      <th>87277</th>\n",
       "      <td>2.02112E+13</td>\n",
       "      <td>Accident</td>\n",
       "      <td>GAA22WA054</td>\n",
       "      <td>21/12/2021</td>\n",
       "      <td>Auxerre, OF</td>\n",
       "      <td>United States</td>\n",
       "      <td>475047N</td>\n",
       "      <td>0032948W</td>\n",
       "      <td>NaN</td>\n",
       "      <td>NaN</td>\n",
       "      <td>...</td>\n",
       "      <td>Unknown</td>\n",
       "      <td>NaN</td>\n",
       "      <td>1.0</td>\n",
       "      <td>0.0</td>\n",
       "      <td>0.0</td>\n",
       "      <td>0.0</td>\n",
       "      <td>NaN</td>\n",
       "      <td>NaN</td>\n",
       "      <td>NaN</td>\n",
       "      <td>NaN</td>\n",
       "    </tr>\n",
       "    <tr>\n",
       "      <th>87278</th>\n",
       "      <td>2.02112E+13</td>\n",
       "      <td>Accident</td>\n",
       "      <td>WPR22LA069</td>\n",
       "      <td>22/12/2021</td>\n",
       "      <td>Auburn, CA</td>\n",
       "      <td>United States</td>\n",
       "      <td>NaN</td>\n",
       "      <td>NaN</td>\n",
       "      <td>NaN</td>\n",
       "      <td>NaN</td>\n",
       "      <td>...</td>\n",
       "      <td>Positioning</td>\n",
       "      <td>Fox Two, LLC</td>\n",
       "      <td>0.0</td>\n",
       "      <td>0.0</td>\n",
       "      <td>1.0</td>\n",
       "      <td>0.0</td>\n",
       "      <td>NaN</td>\n",
       "      <td>NaN</td>\n",
       "      <td>NaN</td>\n",
       "      <td>NaN</td>\n",
       "    </tr>\n",
       "    <tr>\n",
       "      <th>87279</th>\n",
       "      <td>2.02112E+13</td>\n",
       "      <td>Accident</td>\n",
       "      <td>CEN22FA082</td>\n",
       "      <td>26/12/2021</td>\n",
       "      <td>Hardy, AR</td>\n",
       "      <td>United States</td>\n",
       "      <td>NaN</td>\n",
       "      <td>NaN</td>\n",
       "      <td>NaN</td>\n",
       "      <td>NaN</td>\n",
       "      <td>...</td>\n",
       "      <td>Personal</td>\n",
       "      <td>NaN</td>\n",
       "      <td>2.0</td>\n",
       "      <td>0.0</td>\n",
       "      <td>0.0</td>\n",
       "      <td>0.0</td>\n",
       "      <td>NaN</td>\n",
       "      <td>NaN</td>\n",
       "      <td>NaN</td>\n",
       "      <td>NaN</td>\n",
       "    </tr>\n",
       "    <tr>\n",
       "      <th>87280</th>\n",
       "      <td>2.02112E+13</td>\n",
       "      <td>Accident</td>\n",
       "      <td>ERA22LA097</td>\n",
       "      <td>29/12/2021</td>\n",
       "      <td>Marathon, FL</td>\n",
       "      <td>United States</td>\n",
       "      <td>NaN</td>\n",
       "      <td>NaN</td>\n",
       "      <td>NaN</td>\n",
       "      <td>NaN</td>\n",
       "      <td>...</td>\n",
       "      <td>NaN</td>\n",
       "      <td>ExecAir</td>\n",
       "      <td>0.0</td>\n",
       "      <td>3.0</td>\n",
       "      <td>0.0</td>\n",
       "      <td>0.0</td>\n",
       "      <td>NaN</td>\n",
       "      <td>NaN</td>\n",
       "      <td>NaN</td>\n",
       "      <td>NaN</td>\n",
       "    </tr>\n",
       "    <tr>\n",
       "      <th>87281</th>\n",
       "      <td>2.02112E+13</td>\n",
       "      <td>Accident</td>\n",
       "      <td>GAA22WA047</td>\n",
       "      <td>8/12/2022</td>\n",
       "      <td>La Aurora, OF</td>\n",
       "      <td>PACIFIC OCEAN</td>\n",
       "      <td>NaN</td>\n",
       "      <td>NaN</td>\n",
       "      <td>NaN</td>\n",
       "      <td>NaN</td>\n",
       "      <td>...</td>\n",
       "      <td>NaN</td>\n",
       "      <td>NaN</td>\n",
       "      <td>0.0</td>\n",
       "      <td>0.0</td>\n",
       "      <td>0.0</td>\n",
       "      <td>3.0</td>\n",
       "      <td>NaN</td>\n",
       "      <td>NaN</td>\n",
       "      <td>NaN</td>\n",
       "      <td>NaN</td>\n",
       "    </tr>\n",
       "  </tbody>\n",
       "</table>\n",
       "<p>87282 rows × 31 columns</p>\n",
       "</div>"
      ],
      "text/plain": [
       "             Event.Id Investigation.Type Accident.Number  Event.Date  \\\n",
       "0      20001218X45444           Accident      SEA87LA080  24/10/1948   \n",
       "1      20001218X45447           Accident      LAX94LA336   19/7/1962   \n",
       "2      20061025X01555           Accident      NYC07LA005   30/8/1974   \n",
       "3      20001218X45448           Accident      LAX96LA321   19/6/1977   \n",
       "4      20041105X01764           Accident      CHI79FA064    2/8/1979   \n",
       "...               ...                ...             ...         ...   \n",
       "87277     2.02112E+13           Accident      GAA22WA054  21/12/2021   \n",
       "87278     2.02112E+13           Accident      WPR22LA069  22/12/2021   \n",
       "87279     2.02112E+13           Accident      CEN22FA082  26/12/2021   \n",
       "87280     2.02112E+13           Accident      ERA22LA097  29/12/2021   \n",
       "87281     2.02112E+13           Accident      GAA22WA047   8/12/2022   \n",
       "\n",
       "              Location        Country   Latitude  Longitude Airport.Code  \\\n",
       "0      MOOSE CREEK, ID  United States        NaN        NaN          NaN   \n",
       "1       BRIDGEPORT, CA  United States        NaN        NaN          NaN   \n",
       "2        Saltville, VA  United States  36.922223 -81.878056          NaN   \n",
       "3           EUREKA, CA  United States        NaN        NaN          NaN   \n",
       "4           Canton, OH  United States        NaN        NaN          NaN   \n",
       "...                ...            ...        ...        ...          ...   \n",
       "87277      Auxerre, OF  United States    475047N   0032948W          NaN   \n",
       "87278       Auburn, CA  United States        NaN        NaN          NaN   \n",
       "87279        Hardy, AR  United States        NaN        NaN          NaN   \n",
       "87280     Marathon, FL  United States        NaN        NaN          NaN   \n",
       "87281    La Aurora, OF  PACIFIC OCEAN        NaN        NaN          NaN   \n",
       "\n",
       "      Airport.Name  ... Purpose.of.flight   Air.carrier Total.Fatal.Injuries  \\\n",
       "0              NaN  ...          Personal           NaN                  2.0   \n",
       "1              NaN  ...          Personal           NaN                  4.0   \n",
       "2              NaN  ...          Personal           NaN                  3.0   \n",
       "3              NaN  ...          Personal           NaN                  2.0   \n",
       "4              NaN  ...          Personal           NaN                  1.0   \n",
       "...            ...  ...               ...           ...                  ...   \n",
       "87277          NaN  ...           Unknown           NaN                  1.0   \n",
       "87278          NaN  ...       Positioning  Fox Two, LLC                  0.0   \n",
       "87279          NaN  ...          Personal           NaN                  2.0   \n",
       "87280          NaN  ...               NaN       ExecAir                  0.0   \n",
       "87281          NaN  ...               NaN           NaN                  0.0   \n",
       "\n",
       "      Total.Serious.Injuries Total.Minor.Injuries Total.Uninjured  \\\n",
       "0                        0.0                  0.0             0.0   \n",
       "1                        0.0                  0.0             0.0   \n",
       "2                        NaN                  NaN             NaN   \n",
       "3                        0.0                  0.0             0.0   \n",
       "4                        2.0                  NaN             0.0   \n",
       "...                      ...                  ...             ...   \n",
       "87277                    0.0                  0.0             0.0   \n",
       "87278                    0.0                  1.0             0.0   \n",
       "87279                    0.0                  0.0             0.0   \n",
       "87280                    3.0                  0.0             0.0   \n",
       "87281                    0.0                  0.0             3.0   \n",
       "\n",
       "      Weather.Condition  Broad.phase.of.flight   Report.Status  \\\n",
       "0                   UNK                 Cruise  Probable Cause   \n",
       "1                   UNK                Unknown  Probable Cause   \n",
       "2                   IMC                 Cruise  Probable Cause   \n",
       "3                   IMC                 Cruise  Probable Cause   \n",
       "4                   VMC               Approach  Probable Cause   \n",
       "...                 ...                    ...             ...   \n",
       "87277               NaN                    NaN             NaN   \n",
       "87278               NaN                    NaN             NaN   \n",
       "87279               NaN                    NaN             NaN   \n",
       "87280               NaN                    NaN             NaN   \n",
       "87281               NaN                    NaN             NaN   \n",
       "\n",
       "      Publication.Date  \n",
       "0                  NaN  \n",
       "1            19/9/1996  \n",
       "2            26/2/2007  \n",
       "3            12/9/2000  \n",
       "4            16/4/1980  \n",
       "...                ...  \n",
       "87277              NaN  \n",
       "87278              NaN  \n",
       "87279              NaN  \n",
       "87280              NaN  \n",
       "87281              NaN  \n",
       "\n",
       "[87282 rows x 31 columns]"
      ]
     },
     "execution_count": 3,
     "metadata": {},
     "output_type": "execute_result"
    }
   ],
   "source": [
    "avi_accident = pd.read_csv(\"AviationData.csv\")\n",
    "avi_accident"
   ]
  },
  {
   "cell_type": "markdown",
   "id": "8e0fe3e5",
   "metadata": {},
   "source": [
    "Our dataset is from Kaggle: **\"Aviation Accident Database & Synopses\"** by *Kheiralllah Samaha*\\\n",
    "Source: https://www.kaggle.com/datasets/khsamaha/aviation-accident-database-synopses \\\n",
    "Description of data available at https://www.ntsb.gov/_layouts/15/ntsb.aviation/AviationDownloadDataDictionary.aspx\n",
    "\n",
    "> **Event.Id** : Unique Identification for Each Event.\\\n",
    "> **Investigation.Type** : Type of Event. \\\n",
    "> **Accident.Number** : NTSB Number. \\\n",
    "> **Event.Date** : The date of the event. Dates are be entered in the format: MM/DD/YYYY \\\n",
    "> **Location** : The city or place location closest to the site of the event. \\\n",
    "> **Country** :\tThe country in which the event took place.\\\n",
    "> **Latitude** : Event Location Latitude. \\\n",
    "> **Longitude** : Event Location Longitude. \\\n",
    "> **Airport.Code** : Airport code if the event took place within 3 miles of an airport, or the involved aircraft was taking off from, or on approach to, an airport. \\\n",
    "> **Airport.Name** : Airport name if the event took place within 3 miles of an airport, or the involved aircraft was taking off from, or on approach to, an airport. \\\n",
    "> **Injury.Severity** : Indicate the highest level of injury among all injuries sustained as a result of the event. \\\n",
    "> **Aircraft.damage** : Indicate the severity of damage to the accident aircraft. For the purposes of this variable, aircraft damage categories are defined in 49 CFR 830.2.\\\n",
    "> **Aircraft.Category** :The category of the involved aircraft. In this case, the definition of aircraft category is the same as that used with respect to the certification, ratings, privileges, and limitations of airmen. Also note that there is some overlap of category and class in the available choices.\\\n",
    "> **Registration.Number** : ll registration (tail) number of the involved aircraft, including the International Civil Aviation Organization (ICAO) country prefix. Note: the prefix for US registered aircraft is \"N.\" \\\n",
    "> **Make** : Name of the manufacturer of the involved aircraft. \\\n",
    "> **Model** : Aircraft Model. \\\n",
    "> **Amateur.Built** : Aircraft is a homebuilt (Y/N). \\\n",
    "> **Number.of.Engines** : The total number of engines on the accident aircraft. \\\n",
    "> **Engine.Type** :\tType of engine(s) on the involved aircraft. \\\n",
    "> **FAR.Description** :\tThe applicable regulation part (14 CFR) or authority the aircraft was operating under at the time of the accident. \\\n",
    "> **Schedule** : Indicates whether an air carrier operation was scheduled or not. \\\n",
    "> **Purpose.of.flight** :Type of Flying (Per_Bus / Primary). \\\n",
    "> **Air.carrier** : Operator Name & Operator Is Doing Business As. \\\n",
    "> **Total.Fatal.Injuries** : Injury Total Fatal. \\\n",
    "> **Total.Serious.Injuries** : Injury Total Serious. \\\n",
    "> **Total.Minor.Injuries** : Injury Total Minor. \\\n",
    "> **Total.Uninjured** : Non-Injury Total. \\\n",
    "> **Weather.Condition** : Basic weather conditions. \\\n",
    "> **Broad.phase.of.flight** : All occurrences include information about the phase of flight in which the occurrence took place. Phase of flight refers to the point in the aircraft operation profile in which the event occurred. \\\n",
    "> **Report.Status** : The furthest level to which a report has been completed.\\\n",
    "> **Publication.Date** : The date on which the previous column was published to the web. \\"
   ]
  },
  {
   "cell_type": "markdown",
   "id": "d83f7cbe",
   "metadata": {},
   "source": [
    "Let's have an overview of the dataset by looking at the `type` and `shape` of the data."
   ]
  },
  {
   "cell_type": "code",
   "execution_count": 4,
   "id": "0960d8cf",
   "metadata": {},
   "outputs": [
    {
     "name": "stdout",
     "output_type": "stream",
     "text": [
      "Data type:\t <class 'pandas.core.frame.DataFrame'>\n",
      "Data dimension:\t (87282, 31)\n"
     ]
    }
   ],
   "source": [
    "print(\"Data type:\\t\", type(avi_accident))\n",
    "print(\"Data dimension:\\t\", avi_accident.shape)"
   ]
  },
  {
   "cell_type": "markdown",
   "id": "f9c082ab",
   "metadata": {},
   "source": [
    "Next, we will check the data type of each column by using `info`."
   ]
  },
  {
   "cell_type": "code",
   "execution_count": 5,
   "id": "56fee726",
   "metadata": {
    "scrolled": false
   },
   "outputs": [
    {
     "name": "stdout",
     "output_type": "stream",
     "text": [
      "<class 'pandas.core.frame.DataFrame'>\n",
      "RangeIndex: 87282 entries, 0 to 87281\n",
      "Data columns (total 31 columns):\n",
      " #   Column                  Non-Null Count  Dtype  \n",
      "---  ------                  --------------  -----  \n",
      " 0   Event.Id                87282 non-null  object \n",
      " 1   Investigation.Type      87282 non-null  object \n",
      " 2   Accident.Number         87282 non-null  object \n",
      " 3   Event.Date              87282 non-null  object \n",
      " 4   Location                87230 non-null  object \n",
      " 5   Country                 87056 non-null  object \n",
      " 6   Latitude                33073 non-null  object \n",
      " 7   Longitude               33064 non-null  object \n",
      " 8   Airport.Code            49322 non-null  object \n",
      " 9   Airport.Name            51955 non-null  object \n",
      " 10  Injury.Severity         86399 non-null  object \n",
      " 11  Aircraft.damage         84272 non-null  object \n",
      " 12  Aircraft.Category       30783 non-null  object \n",
      " 13  Registration.Number     85965 non-null  object \n",
      " 14  Make                    87219 non-null  object \n",
      " 15  Model                   87190 non-null  object \n",
      " 16  Amateur.Built           87180 non-null  object \n",
      " 17  Number.of.Engines       81533 non-null  float64\n",
      " 18  Engine.Type             81391 non-null  object \n",
      " 19  FAR.Description         30458 non-null  object \n",
      " 20  Schedule                12330 non-null  object \n",
      " 21  Purpose.of.flight       81493 non-null  object \n",
      " 22  Air.carrier             15971 non-null  object \n",
      " 23  Total.Fatal.Injuries    75881 non-null  float64\n",
      " 24  Total.Serious.Injuries  74772 non-null  float64\n",
      " 25  Total.Minor.Injuries    75349 non-null  float64\n",
      " 26  Total.Uninjured         81370 non-null  float64\n",
      " 27  Weather.Condition       83304 non-null  object \n",
      " 28  Broad.phase.of.flight   61724 non-null  object \n",
      " 29  Report.Status           82070 non-null  object \n",
      " 30  Publication.Date        73629 non-null  object \n",
      "dtypes: float64(5), object(26)\n",
      "memory usage: 20.6+ MB\n"
     ]
    }
   ],
   "source": [
    "avi_accident.info()"
   ]
  },
  {
   "cell_type": "markdown",
   "id": "9ae15b7e",
   "metadata": {},
   "source": [
    "***"
   ]
  },
  {
   "cell_type": "markdown",
   "id": "c0f8bb1d",
   "metadata": {},
   "source": [
    "## Data Preperation and Data Cleaning\n",
    "\n",
    "##### Done by: Lee Min Xuan "
   ]
  },
  {
   "cell_type": "markdown",
   "id": "05ab5768",
   "metadata": {},
   "source": [
    "We will now prepare and clean up our dataset."
   ]
  },
  {
   "cell_type": "markdown",
   "id": "29ae0906",
   "metadata": {},
   "source": [
    "First, we will use `describe` to have an overview of the **count**, **mean**, **standard deviation** (denoted by std), **minimum value** (denoted by min) , **first quartile** (denoted by 25%) , **median** (denoted by 50%) , **third quartile** (denoted by 75%) and **maximum value** (denoted by max) of the dataset. \n",
    "\n",
    "Note that this will only represents the overview for the column of the **numerical data**."
   ]
  },
  {
   "cell_type": "code",
   "execution_count": 6,
   "id": "a766a4d5",
   "metadata": {},
   "outputs": [
    {
     "data": {
      "text/html": [
       "<div>\n",
       "<style scoped>\n",
       "    .dataframe tbody tr th:only-of-type {\n",
       "        vertical-align: middle;\n",
       "    }\n",
       "\n",
       "    .dataframe tbody tr th {\n",
       "        vertical-align: top;\n",
       "    }\n",
       "\n",
       "    .dataframe thead th {\n",
       "        text-align: right;\n",
       "    }\n",
       "</style>\n",
       "<table border=\"1\" class=\"dataframe\">\n",
       "  <thead>\n",
       "    <tr style=\"text-align: right;\">\n",
       "      <th></th>\n",
       "      <th>Number.of.Engines</th>\n",
       "      <th>Total.Fatal.Injuries</th>\n",
       "      <th>Total.Serious.Injuries</th>\n",
       "      <th>Total.Minor.Injuries</th>\n",
       "      <th>Total.Uninjured</th>\n",
       "    </tr>\n",
       "  </thead>\n",
       "  <tbody>\n",
       "    <tr>\n",
       "      <th>count</th>\n",
       "      <td>81533.000000</td>\n",
       "      <td>75881.000000</td>\n",
       "      <td>74772.000000</td>\n",
       "      <td>75349.000000</td>\n",
       "      <td>81370.000000</td>\n",
       "    </tr>\n",
       "    <tr>\n",
       "      <th>mean</th>\n",
       "      <td>1.147131</td>\n",
       "      <td>0.652772</td>\n",
       "      <td>0.280921</td>\n",
       "      <td>0.360814</td>\n",
       "      <td>5.311847</td>\n",
       "    </tr>\n",
       "    <tr>\n",
       "      <th>std</th>\n",
       "      <td>0.447085</td>\n",
       "      <td>5.521338</td>\n",
       "      <td>1.557476</td>\n",
       "      <td>2.257721</td>\n",
       "      <td>27.899156</td>\n",
       "    </tr>\n",
       "    <tr>\n",
       "      <th>min</th>\n",
       "      <td>0.000000</td>\n",
       "      <td>0.000000</td>\n",
       "      <td>0.000000</td>\n",
       "      <td>0.000000</td>\n",
       "      <td>0.000000</td>\n",
       "    </tr>\n",
       "    <tr>\n",
       "      <th>25%</th>\n",
       "      <td>1.000000</td>\n",
       "      <td>0.000000</td>\n",
       "      <td>0.000000</td>\n",
       "      <td>0.000000</td>\n",
       "      <td>0.000000</td>\n",
       "    </tr>\n",
       "    <tr>\n",
       "      <th>50%</th>\n",
       "      <td>1.000000</td>\n",
       "      <td>0.000000</td>\n",
       "      <td>0.000000</td>\n",
       "      <td>0.000000</td>\n",
       "      <td>1.000000</td>\n",
       "    </tr>\n",
       "    <tr>\n",
       "      <th>75%</th>\n",
       "      <td>1.000000</td>\n",
       "      <td>0.000000</td>\n",
       "      <td>0.000000</td>\n",
       "      <td>0.000000</td>\n",
       "      <td>2.000000</td>\n",
       "    </tr>\n",
       "    <tr>\n",
       "      <th>max</th>\n",
       "      <td>8.000000</td>\n",
       "      <td>349.000000</td>\n",
       "      <td>161.000000</td>\n",
       "      <td>380.000000</td>\n",
       "      <td>699.000000</td>\n",
       "    </tr>\n",
       "  </tbody>\n",
       "</table>\n",
       "</div>"
      ],
      "text/plain": [
       "       Number.of.Engines  Total.Fatal.Injuries  Total.Serious.Injuries  \\\n",
       "count       81533.000000          75881.000000            74772.000000   \n",
       "mean            1.147131              0.652772                0.280921   \n",
       "std             0.447085              5.521338                1.557476   \n",
       "min             0.000000              0.000000                0.000000   \n",
       "25%             1.000000              0.000000                0.000000   \n",
       "50%             1.000000              0.000000                0.000000   \n",
       "75%             1.000000              0.000000                0.000000   \n",
       "max             8.000000            349.000000              161.000000   \n",
       "\n",
       "       Total.Minor.Injuries  Total.Uninjured  \n",
       "count          75349.000000     81370.000000  \n",
       "mean               0.360814         5.311847  \n",
       "std                2.257721        27.899156  \n",
       "min                0.000000         0.000000  \n",
       "25%                0.000000         0.000000  \n",
       "50%                0.000000         1.000000  \n",
       "75%                0.000000         2.000000  \n",
       "max              380.000000       699.000000  "
      ]
     },
     "execution_count": 6,
     "metadata": {},
     "output_type": "execute_result"
    }
   ],
   "source": [
    "avi_accident.describe()"
   ]
  },
  {
   "cell_type": "markdown",
   "id": "4032070b",
   "metadata": {},
   "source": [
    "We will only extract the data which are useful for analysis, which then comprised of 18 out of 31 columns in total and have a look at the data type of each column with `info`."
   ]
  },
  {
   "cell_type": "code",
   "execution_count": 7,
   "id": "ce5beae9",
   "metadata": {},
   "outputs": [
    {
     "name": "stdout",
     "output_type": "stream",
     "text": [
      "<class 'pandas.core.frame.DataFrame'>\n",
      "RangeIndex: 87282 entries, 0 to 87281\n",
      "Data columns (total 18 columns):\n",
      " #   Column                  Non-Null Count  Dtype  \n",
      "---  ------                  --------------  -----  \n",
      " 0   Accident.Number         87282 non-null  object \n",
      " 1   Investigation.Type      87282 non-null  object \n",
      " 2   Event.Date              87282 non-null  object \n",
      " 3   Location                87230 non-null  object \n",
      " 4   Country                 87056 non-null  object \n",
      " 5   Injury.Severity         86399 non-null  object \n",
      " 6   Aircraft.damage         84272 non-null  object \n",
      " 7   Make                    87219 non-null  object \n",
      " 8   Amateur.Built           87180 non-null  object \n",
      " 9   Number.of.Engines       81533 non-null  float64\n",
      " 10  Engine.Type             81391 non-null  object \n",
      " 11  Purpose.of.flight       81493 non-null  object \n",
      " 12  Total.Fatal.Injuries    75881 non-null  float64\n",
      " 13  Total.Serious.Injuries  74772 non-null  float64\n",
      " 14  Total.Minor.Injuries    75349 non-null  float64\n",
      " 15  Total.Uninjured         81370 non-null  float64\n",
      " 16  Weather.Condition       83304 non-null  object \n",
      " 17  Broad.phase.of.flight   61724 non-null  object \n",
      "dtypes: float64(5), object(13)\n",
      "memory usage: 12.0+ MB\n"
     ]
    }
   ],
   "source": [
    "avi_acc = avi_accident[[\"Accident.Number\", \"Investigation.Type\", \"Event.Date\", \"Location\", \n",
    "                       \"Country\",  \"Injury.Severity\" , \"Aircraft.damage\", \"Make\", \n",
    "                      \"Amateur.Built\", \"Number.of.Engines\", \"Engine.Type\", \"Purpose.of.flight\",  \n",
    "                      \"Total.Fatal.Injuries\", \"Total.Serious.Injuries\", \"Total.Minor.Injuries\",\n",
    "                      \"Total.Uninjured\", \"Weather.Condition\",\"Broad.phase.of.flight\" \n",
    "                      ]]\n",
    "avi_acc.info()"
   ]
  },
  {
   "cell_type": "markdown",
   "id": "7d021952",
   "metadata": {},
   "source": [
    "As there are 87282 rows and there are 87282 unique Accident Number, we can then ensure that all the datapoints are unique and no duplicated data in this dataset."
   ]
  },
  {
   "cell_type": "code",
   "execution_count": 8,
   "id": "8e77c8d8",
   "metadata": {},
   "outputs": [
    {
     "name": "stdout",
     "output_type": "stream",
     "text": [
      "Total number of rows in dataset:\t 87282\n",
      "Total number of unique Event ID:\t 87282\n"
     ]
    }
   ],
   "source": [
    "print(\"Total number of rows in dataset:\\t\", len(avi_acc))\n",
    "print(\"Total number of unique Event ID:\\t\", len(avi_acc[\"Accident.Number\"].unique()))"
   ]
  },
  {
   "cell_type": "markdown",
   "id": "858ddb2c",
   "metadata": {},
   "source": [
    "Now, we will check for NULL inputs and deal with them accordingly. "
   ]
  },
  {
   "cell_type": "code",
   "execution_count": 9,
   "id": "1da441ac",
   "metadata": {},
   "outputs": [
    {
     "data": {
      "text/plain": [
       "Accident.Number               0\n",
       "Investigation.Type            0\n",
       "Event.Date                    0\n",
       "Location                     52\n",
       "Country                     226\n",
       "Injury.Severity             883\n",
       "Aircraft.damage            3010\n",
       "Make                         63\n",
       "Amateur.Built               102\n",
       "Number.of.Engines          5749\n",
       "Engine.Type                5891\n",
       "Purpose.of.flight          5789\n",
       "Total.Fatal.Injuries      11401\n",
       "Total.Serious.Injuries    12510\n",
       "Total.Minor.Injuries      11933\n",
       "Total.Uninjured            5912\n",
       "Weather.Condition          3978\n",
       "Broad.phase.of.flight     25558\n",
       "dtype: int64"
      ]
     },
     "execution_count": 9,
     "metadata": {},
     "output_type": "execute_result"
    }
   ],
   "source": [
    "avi_acc.isnull().sum()"
   ]
  },
  {
   "cell_type": "markdown",
   "id": "20347e6f",
   "metadata": {},
   "source": [
    "First, we want to clear the null values of  `Number.of.Engines`, `Total.Fatal.Injuries`, `Ttoal.Serious.Injuries`, `Total.Minor.Injuries` and `Total.Uninjured`. We wil first deal with the **numerical variables**, so let's know more about the measure of central tendancy. "
   ]
  },
  {
   "cell_type": "code",
   "execution_count": 10,
   "id": "ef6774a1",
   "metadata": {},
   "outputs": [
    {
     "data": {
      "text/html": [
       "<div>\n",
       "<style scoped>\n",
       "    .dataframe tbody tr th:only-of-type {\n",
       "        vertical-align: middle;\n",
       "    }\n",
       "\n",
       "    .dataframe tbody tr th {\n",
       "        vertical-align: top;\n",
       "    }\n",
       "\n",
       "    .dataframe thead th {\n",
       "        text-align: right;\n",
       "    }\n",
       "</style>\n",
       "<table border=\"1\" class=\"dataframe\">\n",
       "  <thead>\n",
       "    <tr style=\"text-align: right;\">\n",
       "      <th></th>\n",
       "      <th>Total.Fatal.Injuries</th>\n",
       "      <th>Total.Serious.Injuries</th>\n",
       "      <th>Total.Minor.Injuries</th>\n",
       "      <th>Total.Uninjured</th>\n",
       "      <th>Number.of.Engines</th>\n",
       "    </tr>\n",
       "  </thead>\n",
       "  <tbody>\n",
       "    <tr>\n",
       "      <th>count</th>\n",
       "      <td>75881.000000</td>\n",
       "      <td>74772.000000</td>\n",
       "      <td>75349.000000</td>\n",
       "      <td>81370.000000</td>\n",
       "      <td>81533.000000</td>\n",
       "    </tr>\n",
       "    <tr>\n",
       "      <th>mean</th>\n",
       "      <td>0.652772</td>\n",
       "      <td>0.280921</td>\n",
       "      <td>0.360814</td>\n",
       "      <td>5.311847</td>\n",
       "      <td>1.147131</td>\n",
       "    </tr>\n",
       "    <tr>\n",
       "      <th>std</th>\n",
       "      <td>5.521338</td>\n",
       "      <td>1.557476</td>\n",
       "      <td>2.257721</td>\n",
       "      <td>27.899156</td>\n",
       "      <td>0.447085</td>\n",
       "    </tr>\n",
       "    <tr>\n",
       "      <th>min</th>\n",
       "      <td>0.000000</td>\n",
       "      <td>0.000000</td>\n",
       "      <td>0.000000</td>\n",
       "      <td>0.000000</td>\n",
       "      <td>0.000000</td>\n",
       "    </tr>\n",
       "    <tr>\n",
       "      <th>25%</th>\n",
       "      <td>0.000000</td>\n",
       "      <td>0.000000</td>\n",
       "      <td>0.000000</td>\n",
       "      <td>0.000000</td>\n",
       "      <td>1.000000</td>\n",
       "    </tr>\n",
       "    <tr>\n",
       "      <th>50%</th>\n",
       "      <td>0.000000</td>\n",
       "      <td>0.000000</td>\n",
       "      <td>0.000000</td>\n",
       "      <td>1.000000</td>\n",
       "      <td>1.000000</td>\n",
       "    </tr>\n",
       "    <tr>\n",
       "      <th>75%</th>\n",
       "      <td>0.000000</td>\n",
       "      <td>0.000000</td>\n",
       "      <td>0.000000</td>\n",
       "      <td>2.000000</td>\n",
       "      <td>1.000000</td>\n",
       "    </tr>\n",
       "    <tr>\n",
       "      <th>max</th>\n",
       "      <td>349.000000</td>\n",
       "      <td>161.000000</td>\n",
       "      <td>380.000000</td>\n",
       "      <td>699.000000</td>\n",
       "      <td>8.000000</td>\n",
       "    </tr>\n",
       "  </tbody>\n",
       "</table>\n",
       "</div>"
      ],
      "text/plain": [
       "       Total.Fatal.Injuries  Total.Serious.Injuries  Total.Minor.Injuries  \\\n",
       "count          75881.000000            74772.000000          75349.000000   \n",
       "mean               0.652772                0.280921              0.360814   \n",
       "std                5.521338                1.557476              2.257721   \n",
       "min                0.000000                0.000000              0.000000   \n",
       "25%                0.000000                0.000000              0.000000   \n",
       "50%                0.000000                0.000000              0.000000   \n",
       "75%                0.000000                0.000000              0.000000   \n",
       "max              349.000000              161.000000            380.000000   \n",
       "\n",
       "       Total.Uninjured  Number.of.Engines  \n",
       "count     81370.000000       81533.000000  \n",
       "mean          5.311847           1.147131  \n",
       "std          27.899156           0.447085  \n",
       "min           0.000000           0.000000  \n",
       "25%           0.000000           1.000000  \n",
       "50%           1.000000           1.000000  \n",
       "75%           2.000000           1.000000  \n",
       "max         699.000000           8.000000  "
      ]
     },
     "execution_count": 10,
     "metadata": {},
     "output_type": "execute_result"
    }
   ],
   "source": [
    "avi_acc[[\"Total.Fatal.Injuries\", \"Total.Serious.Injuries\", \"Total.Minor.Injuries\", \"Total.Uninjured\", \n",
    "         \"Number.of.Engines\"]].describe()"
   ]
  },
  {
   "cell_type": "markdown",
   "id": "e736b1cf",
   "metadata": {},
   "source": [
    "To have a clearer visualisation of the dataset distribution, we will use **Box Plot**, follow by **Histogram & KDE Plot**, lastly with **Violin PLot**.\n",
    "\n",
    "We will first start with the **Box Plot** of `Total.Fatal.Injuries`, `Total.Serious.Injuries`, `Total.Minor.Injuries` and `Total.Uninjured`."
   ]
  },
  {
   "cell_type": "code",
   "execution_count": 11,
   "id": "0ebafa9e",
   "metadata": {},
   "outputs": [
    {
     "data": {
      "text/plain": [
       "Text(0.5, 1.0, 'Number of Engines')"
      ]
     },
     "execution_count": 11,
     "metadata": {},
     "output_type": "execute_result"
    },
    {
     "data": {
      "image/png": "[encoded data removed]",
      "text/plain": [
       "<Figure size 2000x1600 with 5 Axes>"
      ]
     },
     "metadata": {},
     "output_type": "display_data"
    }
   ],
   "source": [
    "f, axes = plt.subplots(5,1, figsize = (20,16))\n",
    "\n",
    "sb.boxplot(data = avi_acc[\"Total.Fatal.Injuries\"], orient = \"h\", ax = axes[0]).set_title(\"Total Fatal Injuries\")\n",
    "sb.boxplot(data = avi_acc[\"Total.Serious.Injuries\"], orient = \"h\", ax = axes[1]).set_title(\"Total Serious Injuries\")\n",
    "sb.boxplot(data = avi_acc[\"Total.Minor.Injuries\"], orient = \"h\", ax = axes[2]).set_title(\"Total Minor Injuries\")\n",
    "sb.boxplot(data = avi_acc[\"Total.Uninjured\"], orient = \"h\", ax = axes[3]).set_title(\"Total Uninjured\")\n",
    "sb.boxplot(data = avi_acc[\"Number.of.Engines\"], orient = \"h\", ax = axes[4]).set_title(\"Number of Engines\")"
   ]
  },
  {
   "cell_type": "markdown",
   "id": "2e5beb15",
   "metadata": {},
   "source": [
    "**Skewness**\n",
    "\n",
    "Skewness is a measure of symmetry, which in turn tells us more about the distribution of the data.\n",
    "- If the skewness is between **-0.5** and **0.5**, the data is fairly symmetrical.\n",
    "- If the skewness is between **-1** and **-0.5** or between **0.5** and 1, the data is moderately skewed.\n",
    "- If the skewness is less than **-1** or greater than **1**, the data is highly skewed.\n",
    "\n",
    "From the skewness of each variable given below, "
   ]
  },
  {
   "cell_type": "code",
   "execution_count": 12,
   "id": "13282407",
   "metadata": {},
   "outputs": [
    {
     "name": "stdout",
     "output_type": "stream",
     "text": [
      "Skewness Total.Fatal.Injuries \t: 32.89339797950946\n",
      "Skewness Total.Serious.Injuries \t: 49.159571419457386\n",
      "Skewness Total.Minor.Injuries \t: 86.53335193063873\n",
      "Skewness Total.Uninjured \t: 9.141805758957995\n",
      "Skewness Number.of.Engines \t: 2.5727437956018897\n"
     ]
    }
   ],
   "source": [
    "Numdata = [\"Total.Fatal.Injuries\", \"Total.Serious.Injuries\", \"Total.Minor.Injuries\", \"Total.Uninjured\", \"Number.of.Engines\"]\n",
    "for i in Numdata:\n",
    "    print(\"Skewness\", i, \"\\t:\", avi_acc[i].skew())"
   ]
  },
  {
   "cell_type": "markdown",
   "id": "69c9bbb7",
   "metadata": {},
   "source": [
    "Now, we will have a look at the **mean**, **median** and **mode** of each of the data. This will gives a summary of the centre point of the dataset."
   ]
  },
  {
   "cell_type": "code",
   "execution_count": 13,
   "id": "6e1d429b",
   "metadata": {},
   "outputs": [
    {
     "name": "stdout",
     "output_type": "stream",
     "text": [
      "Total.Fatal.Injuries Mean: 0.65 \t\tMedian: 0.0 \t\tMode: 0    0.0\n",
      "Name: Total.Fatal.Injuries, dtype: float64 \n",
      "\n",
      "Total.Serious.Injuries Mean: 0.28 \t\tMedian: 0.0 \t\tMode: 0    0.0\n",
      "Name: Total.Serious.Injuries, dtype: float64 \n",
      "\n",
      "Total.Minor.Injuries Mean: 0.36 \t\tMedian: 0.0 \t\tMode: 0    0.0\n",
      "Name: Total.Minor.Injuries, dtype: float64 \n",
      "\n",
      "Total.Uninjured Mean: 5.31 \t\tMedian: 1.0 \t\tMode: 0    0.0\n",
      "Name: Total.Uninjured, dtype: float64 \n",
      "\n",
      "Number.of.Engines Mean: 1.15 \t\tMedian: 1.0 \t\tMode: 0    1.0\n",
      "Name: Number.of.Engines, dtype: float64 \n",
      "\n"
     ]
    }
   ],
   "source": [
    "for i in Numdata:\n",
    "    print(i, \"Mean:\", round(avi_acc[i].mean(),2), \"\\t\\tMedian:\", avi_acc[i].median(), \"\\t\\tMode:\", avi_acc[i].mode(), \"\\n\")"
   ]
  },
  {
   "cell_type": "markdown",
   "id": "b2686684",
   "metadata": {},
   "source": [
    "By looking at the skewness of the data, we can conclude that all `Total.Fatal.Injuries`, `Total.Serious.Injuries`, `Total.Minor.Injuries`, `Total.Uninjured` and `Number.of.Engines` are positively skewed. \n",
    "\n",
    "Hence, we decided to use **median** to replace all the null values without changing the distribution of the data. This decision is supported by the fact that the values of median and mean are much similar as compared to mode for this highly skewed data.\n",
    "\n",
    "Also, the variables `Total.Fatal.Injuries`, `Total.Serious.Injuries`, `Total.Minor.Injuries`, `Total.Uninjured` and `Number.of.Engines` are usually in whole number. Hence, imputing the null value with mean (which is a decimal number) makes no sense. (Imagine we have 1.15 engine in an air vehicle or 0.28 Serious Injuries in an accident.)"
   ]
  },
  {
   "cell_type": "code",
   "execution_count": 14,
   "id": "0668967f",
   "metadata": {},
   "outputs": [],
   "source": [
    "from sklearn.impute import SimpleImputer\n",
    "\n",
    "imputer_median = SimpleImputer(missing_values = np.NaN, strategy = 'median')\n",
    "avi_acc['Total.Fatal.Injuries']= imputer_median.fit_transform(avi_acc[\"Total.Fatal.Injuries\"].values.reshape(-1,1))[:,0]\n",
    "avi_acc['Total.Serious.Injuries']= imputer_median.fit_transform(avi_acc[\"Total.Serious.Injuries\"].values.reshape(-1,1))[:,0]\n",
    "avi_acc['Total.Minor.Injuries']= imputer_median.fit_transform(avi_acc[\"Total.Minor.Injuries\"].values.reshape(-1,1))[:,0]\n",
    "avi_acc['Total.Uninjured']= imputer_median.fit_transform(avi_acc[\"Total.Uninjured\"].values.reshape(-1,1))[:,0]\n",
    "avi_acc['Number.of.Engines']= imputer_median.fit_transform(avi_acc[\"Number.of.Engines\"].values.reshape(-1,1))[:,0]"
   ]
  },
  {
   "cell_type": "markdown",
   "id": "a41b36e9",
   "metadata": {},
   "source": [
    "Now,we will count the number of null data form each column of the cleaned data. Notice that we still have null values in the categorical variables, i.e. `Location`, `Country`, `Injury.Severity`, `Aircraft.damage`, `Make`, `Amateur.Built`, `Engine.Type`, `Purpose.of.flight`, `Weather.Condition` and `Broad.phase.of.flight`."
   ]
  },
  {
   "cell_type": "code",
   "execution_count": 15,
   "id": "ecb30335",
   "metadata": {},
   "outputs": [
    {
     "data": {
      "text/plain": [
       "Accident.Number               0\n",
       "Investigation.Type            0\n",
       "Event.Date                    0\n",
       "Location                     52\n",
       "Country                     226\n",
       "Injury.Severity             883\n",
       "Aircraft.damage            3010\n",
       "Make                         63\n",
       "Amateur.Built               102\n",
       "Number.of.Engines             0\n",
       "Engine.Type                5891\n",
       "Purpose.of.flight          5789\n",
       "Total.Fatal.Injuries          0\n",
       "Total.Serious.Injuries        0\n",
       "Total.Minor.Injuries          0\n",
       "Total.Uninjured               0\n",
       "Weather.Condition          3978\n",
       "Broad.phase.of.flight     25558\n",
       "dtype: int64"
      ]
     },
     "execution_count": 15,
     "metadata": {},
     "output_type": "execute_result"
    }
   ],
   "source": [
    "avi_acc.isnull().sum()"
   ]
  },
  {
   "cell_type": "markdown",
   "id": "760ac014",
   "metadata": {},
   "source": [
    "Let's have a look at the distribution of the numerical variables after replacing with **median** by using a **boxplot** to visualise. Notice that the distribution remains the same."
   ]
  },
  {
   "cell_type": "code",
   "execution_count": 16,
   "id": "98917e42",
   "metadata": {},
   "outputs": [
    {
     "data": {
      "text/plain": [
       "Text(0.5, 1.0, 'Number of Engines')"
      ]
     },
     "execution_count": 16,
     "metadata": {},
     "output_type": "execute_result"
    },
    {
     "data": {
      "image/png": "[encoded data removed]",
      "text/plain": [
       "<Figure size 2000x1600 with 5 Axes>"
      ]
     },
     "metadata": {},
     "output_type": "display_data"
    }
   ],
   "source": [
    "f, axes = plt.subplots(5,1, figsize = (20,16))\n",
    "\n",
    "sb.boxplot(data = avi_acc[\"Total.Fatal.Injuries\"], orient = \"h\", ax = axes[0]).set_title(\"Total Fatal Injuries\")\n",
    "sb.boxplot(data = avi_acc[\"Total.Serious.Injuries\"], orient = \"h\", ax = axes[1]).set_title(\"Total Serious Injuries\")\n",
    "sb.boxplot(data = avi_acc[\"Total.Minor.Injuries\"], orient = \"h\", ax = axes[2]).set_title(\"Total Minor Injuries\")\n",
    "sb.boxplot(data = avi_acc[\"Total.Uninjured\"], orient = \"h\", ax = axes[3]).set_title(\"Total Uninjured\")\n",
    "sb.boxplot(data = avi_acc[\"Number.of.Engines\"], orient = \"h\", ax = axes[4]).set_title(\"Number of Engines\")"
   ]
  },
  {
   "cell_type": "markdown",
   "id": "80b2fa79",
   "metadata": {},
   "source": [
    "Now, we will deal with the null values which are non-numerical by filling **Unknown**.\n",
    "\n",
    "As for `Weather.Condition`, we will replace the null values as **UNK**, which represents unknown in this column. \n",
    "As for `Injury.Severity`, we will replace the null value as **Unavailable**."
   ]
  },
  {
   "cell_type": "code",
   "execution_count": 17,
   "id": "bc0eddd4",
   "metadata": {},
   "outputs": [],
   "source": [
    "catdata = [\"Location\", \"Country\" , \"Make\", \"Amateur.Built\", \"Engine.Type\", \"Purpose.of.flight\", \"Broad.phase.of.flight\",\n",
    "          \"Aircraft.damage\"]\n",
    "for j in catdata:\n",
    "    avi_acc[j].fillna(value = \"Unknown\", inplace = True)\n",
    "\n",
    "avi_acc[\"Weather.Condition\"].fillna(value = \"UNK\", inplace = True)\n",
    "avi_acc[\"Injury.Severity\"].fillna(value = \"Unavailable\", inplace = True)"
   ]
  },
  {
   "cell_type": "markdown",
   "id": "d45a62ba",
   "metadata": {},
   "source": [
    "Now, our data should not consists of any **NULL DATA** anymore."
   ]
  },
  {
   "cell_type": "code",
   "execution_count": 18,
   "id": "30ed3ae7",
   "metadata": {},
   "outputs": [
    {
     "data": {
      "text/plain": [
       "Accident.Number           0\n",
       "Investigation.Type        0\n",
       "Event.Date                0\n",
       "Location                  0\n",
       "Country                   0\n",
       "Injury.Severity           0\n",
       "Aircraft.damage           0\n",
       "Make                      0\n",
       "Amateur.Built             0\n",
       "Number.of.Engines         0\n",
       "Engine.Type               0\n",
       "Purpose.of.flight         0\n",
       "Total.Fatal.Injuries      0\n",
       "Total.Serious.Injuries    0\n",
       "Total.Minor.Injuries      0\n",
       "Total.Uninjured           0\n",
       "Weather.Condition         0\n",
       "Broad.phase.of.flight     0\n",
       "dtype: int64"
      ]
     },
     "execution_count": 18,
     "metadata": {},
     "output_type": "execute_result"
    }
   ],
   "source": [
    "avi_acc.isnull().sum()"
   ]
  },
  {
   "cell_type": "markdown",
   "id": "132aaac7",
   "metadata": {},
   "source": [
    "Before proceding to the **Exploratory Data Analysis & Visualisation**, we will change the data types of each column.\n",
    "\n",
    "Notice that the data type for each column wil be changed by now. We will check the data type of each column using `info` function."
   ]
  },
  {
   "cell_type": "code",
   "execution_count": 19,
   "id": "6b466fcd",
   "metadata": {},
   "outputs": [
    {
     "name": "stdout",
     "output_type": "stream",
     "text": [
      "<class 'pandas.core.frame.DataFrame'>\n",
      "RangeIndex: 87282 entries, 0 to 87281\n",
      "Data columns (total 18 columns):\n",
      " #   Column                  Non-Null Count  Dtype  \n",
      "---  ------                  --------------  -----  \n",
      " 0   Accident.Number         87282 non-null  object \n",
      " 1   Investigation.Type      87282 non-null  object \n",
      " 2   Event.Date              87282 non-null  object \n",
      " 3   Location                87282 non-null  object \n",
      " 4   Country                 87282 non-null  object \n",
      " 5   Injury.Severity         87282 non-null  object \n",
      " 6   Aircraft.damage         87282 non-null  object \n",
      " 7   Make                    87282 non-null  object \n",
      " 8   Amateur.Built           87282 non-null  object \n",
      " 9   Number.of.Engines       87282 non-null  float64\n",
      " 10  Engine.Type             87282 non-null  object \n",
      " 11  Purpose.of.flight       87282 non-null  object \n",
      " 12  Total.Fatal.Injuries    87282 non-null  float64\n",
      " 13  Total.Serious.Injuries  87282 non-null  float64\n",
      " 14  Total.Minor.Injuries    87282 non-null  float64\n",
      " 15  Total.Uninjured         87282 non-null  float64\n",
      " 16  Weather.Condition       87282 non-null  object \n",
      " 17  Broad.phase.of.flight   87282 non-null  object \n",
      "dtypes: float64(5), object(13)\n",
      "memory usage: 12.0+ MB\n"
     ]
    }
   ],
   "source": [
    "avi_acc.info()"
   ]
  },
  {
   "cell_type": "markdown",
   "id": "6f72f09b",
   "metadata": {},
   "source": [
    "We will now look into each of the variables and do some suitable data cleaning before proceeding to **Exploratory Data Analysis and Visualisation**"
   ]
  },
  {
   "cell_type": "markdown",
   "id": "b7174693",
   "metadata": {},
   "source": [
    "## Data Cleaning (variables)"
   ]
  },
  {
   "cell_type": "markdown",
   "id": "3c6ed755",
   "metadata": {},
   "source": [
    "### Event Date \n",
    "\n",
    "We will now look into `Event.Date`. As we can see all of the data is in **dd/mm/yyyy** format. We decided to only extract data based on **years of occurance of event** to be further analysed during Exploratory Data Analysis and Visualisation later."
   ]
  },
  {
   "cell_type": "code",
   "execution_count": 20,
   "id": "fde4ffaa",
   "metadata": {},
   "outputs": [],
   "source": [
    "year_list = []\n",
    "for i  in avi_acc[\"Event.Date\"]:\n",
    "    date_list = i.split(\"/\")\n",
    "    year = int(date_list[-1])\n",
    "    year_list.append(year)\n",
    "avi_acc[\"Event.Date\"] = pd.DataFrame(year_list)\n",
    "avi_acc.rename(columns={'Event.Date' : 'Event Year'}, inplace = True)"
   ]
  },
  {
   "cell_type": "markdown",
   "id": "94c156b5",
   "metadata": {},
   "source": [
    "After regrouping the event date by years of event, we have 47 unique values. The number of data for each unique year event year is shown below."
   ]
  },
  {
   "cell_type": "code",
   "execution_count": 21,
   "id": "1bfc63bf",
   "metadata": {},
   "outputs": [
    {
     "name": "stdout",
     "output_type": "stream",
     "text": [
      "Number of unique Event Year:\t 47\n"
     ]
    },
    {
     "data": {
      "text/plain": [
       "1982    3593\n",
       "1983    3556\n",
       "1984    3457\n",
       "1985    3096\n",
       "1986    2880\n",
       "1987    2828\n",
       "1988    2730\n",
       "1989    2544\n",
       "1990    2518\n",
       "1991    2462\n",
       "1992    2355\n",
       "1993    2313\n",
       "1995    2309\n",
       "1994    2257\n",
       "1998    2226\n",
       "2000    2220\n",
       "1999    2209\n",
       "1996    2187\n",
       "1997    2148\n",
       "2003    2085\n",
       "2001    2063\n",
       "2005    2031\n",
       "2002    2020\n",
       "2007    2016\n",
       "2004    1952\n",
       "2008    1893\n",
       "2006    1851\n",
       "2011    1850\n",
       "2012    1835\n",
       "2010    1786\n",
       "2009    1783\n",
       "2018    1681\n",
       "2016    1664\n",
       "2017    1638\n",
       "2019    1624\n",
       "2015    1582\n",
       "2013    1561\n",
       "2021    1544\n",
       "2014    1535\n",
       "2020    1392\n",
       "1979       2\n",
       "1948       1\n",
       "1962       1\n",
       "1981       1\n",
       "1977       1\n",
       "1974       1\n",
       "2022       1\n",
       "Name: Event Year, dtype: int64"
      ]
     },
     "execution_count": 21,
     "metadata": {},
     "output_type": "execute_result"
    }
   ],
   "source": [
    "print(\"Number of unique Event Year:\\t\", len(avi_acc[\"Event Year\"].unique()))\n",
    "avi_acc[\"Event Year\"].value_counts()"
   ]
  },
  {
   "cell_type": "markdown",
   "id": "2e83c7d2",
   "metadata": {},
   "source": [
    "### Injury and Severity\n",
    "\n",
    "We will now look into `Injury.Severity`. As we can see there are 107 types of data in **Injury and Severity**."
   ]
  },
  {
   "cell_type": "code",
   "execution_count": 22,
   "id": "ffe00976",
   "metadata": {},
   "outputs": [
    {
     "name": "stdout",
     "output_type": "stream",
     "text": [
      "Number of data in Injury.Severity:\t 107\n"
     ]
    }
   ],
   "source": [
    "print(\"Number of data in Injury.Severity:\\t\", len(avi_acc[\"Injury.Severity\"].unique()))"
   ]
  },
  {
   "cell_type": "markdown",
   "id": "91f926cd",
   "metadata": {},
   "source": [
    "We will group all the **fatal** data together despite of the different number of deaths indicated behind. This will help us to reduce large set of unique categorical data under `Injury.Severity`. "
   ]
  },
  {
   "cell_type": "code",
   "execution_count": 23,
   "id": "d10dc650",
   "metadata": {},
   "outputs": [],
   "source": [
    "injury_list = []\n",
    "for i in avi_acc[\"Injury.Severity\"]:\n",
    "    if i[0:5].lower() == \"fatal\":\n",
    "        injury_list.append(\"Fatal\")\n",
    "    elif i == \"Incident\":\n",
    "        injury_list.append(\"Incident\")\n",
    "    elif i == \"Unavailable\":\n",
    "        injury_list.append(\"Unavailable\")\n",
    "    elif i == \"Non-Fatal\":\n",
    "        injury_list.append(\"Non-Fatal\") \n",
    "        \n",
    "injury_df = pd.DataFrame(data = injury_list, columns = [\"Injury\"])\n",
    "avi_acc[\"Injury.Severity\"] = injury_df[\"Injury\"]"
   ]
  },
  {
   "cell_type": "markdown",
   "id": "07ba4d4c",
   "metadata": {},
   "source": [
    "After regrouping the **Injury.Severity**, we have 4 unique values. The number of each unique Injury and Severity is indicated below."
   ]
  },
  {
   "cell_type": "code",
   "execution_count": 24,
   "id": "058fe20a",
   "metadata": {},
   "outputs": [
    {
     "name": "stdout",
     "output_type": "stream",
     "text": [
      "Number of unique Injury.Severity:\t 4\n"
     ]
    },
    {
     "data": {
      "text/plain": [
       "Non-Fatal      66561\n",
       "Fatal          17523\n",
       "Incident        2219\n",
       "Unavailable      979\n",
       "Name: Injury.Severity, dtype: int64"
      ]
     },
     "execution_count": 24,
     "metadata": {},
     "output_type": "execute_result"
    }
   ],
   "source": [
    "print(\"Number of unique Injury.Severity:\\t\", len(avi_acc[\"Injury.Severity\"].unique()))\n",
    "avi_acc[\"Injury.Severity\"].value_counts()"
   ]
  },
  {
   "cell_type": "markdown",
   "id": "7c40b54f",
   "metadata": {},
   "source": [
    "### Weather condition \n",
    "\n",
    "We will now look into `Weather.Condition`. We can notice that there are n types of Weather condition in this datatype."
   ]
  },
  {
   "cell_type": "code",
   "execution_count": 25,
   "id": "752e26e1",
   "metadata": {},
   "outputs": [
    {
     "name": "stdout",
     "output_type": "stream",
     "text": [
      "Number of data in Weather.Condition:\t 4\n"
     ]
    },
    {
     "data": {
      "text/plain": [
       "VMC    76251\n",
       "IMC     5944\n",
       "UNK     4834\n",
       "Unk      253\n",
       "Name: Weather.Condition, dtype: int64"
      ]
     },
     "execution_count": 25,
     "metadata": {},
     "output_type": "execute_result"
    }
   ],
   "source": [
    "print(\"Number of data in Weather.Condition:\\t\", len(avi_acc[\"Weather.Condition\"].unique()))\n",
    "avi_acc[\"Weather.Condition\"].value_counts()"
   ]
  },
  {
   "cell_type": "markdown",
   "id": "a008f229",
   "metadata": {},
   "source": [
    "Notice that there are **Unk** and **UNK** which are both representing the similar Weather Condition, which is **Unknown**. We will rename both data as the same category.\n",
    "\n",
    "We will also rename each of the weather condition to its full name for a better understanding. We will rename them according to the list below.  \n",
    "\n",
    "We will now look into `Weather.Condition`. We can notice that there are n types of Weather condition in this datatype.\n",
    "\n",
    "Notice that there are **Unk** and **UNK** which are both representing the similar Weather Condition, which is **Unknown**. We will rename both data as the same category.\n",
    "\n",
    "We will also rename each of the weather condition to its full name for a better understanding. We will rename them according to the list below. \n",
    "\n",
    "| Previous | Current |\n",
    "| :-----------| :---------- |\n",
    "| UNK/Unk | Unknown |\n",
    "| VMC | Visual Meteorological Conditions |\n",
    "| IMC | Instrument Meterological Conditions |\n",
    "\n",
    "where:\n",
    "\n",
    "**VMC (Visual Meteorological Conditions)**: Visibility more than 5km, cloudbase 1500 ft. Pilots can sufficiently and safely maintain visuals of all other aircraft and the terrain around them.\n",
    "\n",
    "**IMC (Instrument Meterological Conditions)**: Any conditions worse than VMC, pilots need to rely on instruments.\n",
    "\n",
    "**Unk/UNK (Unknown)**: Weather condition unknown."
   ]
  },
  {
   "cell_type": "code",
   "execution_count": 26,
   "id": "9f0c1fc0",
   "metadata": {},
   "outputs": [],
   "source": [
    "weather_list = []\n",
    "\n",
    "for i in avi_acc[\"Weather.Condition\"]:\n",
    "    if i.upper() == \"UNK\":\n",
    "        weather_list.append(\"Unknown\")\n",
    "    elif i == \"VMC\":\n",
    "         weather_list.append(\"Visual Meteorological Conditions\")\n",
    "    else:\n",
    "         weather_list.append(\"Instrument Meterological Conditions\")\n",
    "weather_df = pd.DataFrame(data = weather_list, columns = [\"Weather\"])\n",
    "avi_acc[\"Weather.Condition\"] = weather_df[\"Weather\"]"
   ]
  },
  {
   "cell_type": "markdown",
   "id": "7f8804cf",
   "metadata": {},
   "source": [
    "After regrouping the **Weather.Condition**, we have 3 unique values. The number of each unique Weather.Condition is indicated below."
   ]
  },
  {
   "cell_type": "code",
   "execution_count": 27,
   "id": "8a456131",
   "metadata": {},
   "outputs": [
    {
     "name": "stdout",
     "output_type": "stream",
     "text": [
      "Number of unique Weather.Condition:\t 3\n"
     ]
    },
    {
     "data": {
      "text/plain": [
       "Visual Meteorological Conditions       76251\n",
       "Instrument Meterological Conditions     5944\n",
       "Unknown                                 5087\n",
       "Name: Weather.Condition, dtype: int64"
      ]
     },
     "execution_count": 27,
     "metadata": {},
     "output_type": "execute_result"
    }
   ],
   "source": [
    "print(\"Number of unique Weather.Condition:\\t\", len(avi_acc[\"Weather.Condition\"].unique()))\n",
    "avi_acc[\"Weather.Condition\"].value_counts()"
   ]
  },
  {
   "cell_type": "markdown",
   "id": "9c495b97",
   "metadata": {},
   "source": [
    "### Broad Phase of Flight \n",
    "\n",
    "We will now look into `Broad.phase.of.flight`. We can see that there are 12 types of Broad Phase of Flight. "
   ]
  },
  {
   "cell_type": "code",
   "execution_count": 28,
   "id": "41a6fad2",
   "metadata": {},
   "outputs": [
    {
     "name": "stdout",
     "output_type": "stream",
     "text": [
      "Types of Broad Phase of Flight:\t 12\n"
     ]
    }
   ],
   "source": [
    "print(\"Types of Broad Phase of Flight:\\t\", len(avi_acc[\"Broad.phase.of.flight\"].unique()))"
   ]
  },
  {
   "cell_type": "markdown",
   "id": "362ab5a6",
   "metadata": {},
   "source": [
    "We will clasify the broad phase of flight according to the table below.\n",
    "\n",
    "| Previous | Current |\n",
    "| :-----------| :---------- |\n",
    "| Taxi/Standing | 1 |\n",
    "| Takeoff/Landing | 2 |\n",
    "| Climb/Descent/Approach/Go-around | 3 |\n",
    "| Cruise/Maneuvering | 4 |\n",
    "| Others | 0 |\n"
   ]
  },
  {
   "cell_type": "code",
   "execution_count": 29,
   "id": "3404e99c",
   "metadata": {},
   "outputs": [],
   "source": [
    "broad_phase = []\n",
    "for i in avi_acc[\"Broad.phase.of.flight\"]:\n",
    "    if i in [\"Taxi\",\"Standing\"]:\n",
    "        broad_phase.append(1)\n",
    "    elif i in [\"Takeoff\",\"Landing\"]:\n",
    "        broad_phase.append(2)\n",
    "    elif i in [\"Climb\",\"Descent\",\"Approach\",\"Go-around\"]:\n",
    "        broad_phase.append(3)\n",
    "    elif i in [\"Cruise\",\"Maneuvering\"]:\n",
    "        broad_phase.append(4)\n",
    "    else:\n",
    "        broad_phase.append(0)\n",
    "Broad_phase_of_flight_df = pd.DataFrame(data=broad_phase, columns = [\"Broad phase of flight\"])\n",
    "avi_acc[\"Broad.phase.of.flight\"] = Broad_phase_of_flight_df[\"Broad phase of flight\"]"
   ]
  },
  {
   "cell_type": "markdown",
   "id": "f468bb05",
   "metadata": {},
   "source": [
    "After regrouping the **Broad.phase.of.flight**, we have 5 unique values. The number of each unique Weather.Condition is indicated below."
   ]
  },
  {
   "cell_type": "code",
   "execution_count": 30,
   "id": "20695438",
   "metadata": {},
   "outputs": [
    {
     "name": "stdout",
     "output_type": "stream",
     "text": [
      "Number of unique Broad.phase.of.flight:\t 5\n"
     ]
    },
    {
     "data": {
      "text/plain": [
       "2    27921\n",
       "0    26225\n",
       "4    18413\n",
       "3    11820\n",
       "1     2903\n",
       "Name: Broad.phase.of.flight, dtype: int64"
      ]
     },
     "execution_count": 30,
     "metadata": {},
     "output_type": "execute_result"
    }
   ],
   "source": [
    "print(\"Number of unique Broad.phase.of.flight:\\t\", len(avi_acc[\"Broad.phase.of.flight\"].unique()))\n",
    "avi_acc[\"Broad.phase.of.flight\"].value_counts()"
   ]
  },
  {
   "cell_type": "markdown",
   "id": "d2db8290",
   "metadata": {},
   "source": [
    "### Fatal Injury Rate\n",
    "\n",
    "We define a new variable of our concern known as **Fatal Injury Rate**. The **Fatal Injury Rate** is processed by using the formula stated below.\n",
    "\n",
    "$\\frac{Total.Fatal.Injuries} {Total.Fatal.Injuries+Total.Serious.Injuries+Total.Minor.Injuries+Total.Uninjured}*100\\%$"
   ]
  },
  {
   "cell_type": "code",
   "execution_count": 31,
   "id": "c10cd4cc",
   "metadata": {},
   "outputs": [
    {
     "data": {
      "text/html": [
       "<div>\n",
       "<style scoped>\n",
       "    .dataframe tbody tr th:only-of-type {\n",
       "        vertical-align: middle;\n",
       "    }\n",
       "\n",
       "    .dataframe tbody tr th {\n",
       "        vertical-align: top;\n",
       "    }\n",
       "\n",
       "    .dataframe thead th {\n",
       "        text-align: right;\n",
       "    }\n",
       "</style>\n",
       "<table border=\"1\" class=\"dataframe\">\n",
       "  <thead>\n",
       "    <tr style=\"text-align: right;\">\n",
       "      <th></th>\n",
       "      <th>Accident.Number</th>\n",
       "      <th>Investigation.Type</th>\n",
       "      <th>Event Year</th>\n",
       "      <th>Location</th>\n",
       "      <th>Country</th>\n",
       "      <th>Injury.Severity</th>\n",
       "      <th>Aircraft.damage</th>\n",
       "      <th>Make</th>\n",
       "      <th>Amateur.Built</th>\n",
       "      <th>Number.of.Engines</th>\n",
       "      <th>Engine.Type</th>\n",
       "      <th>Purpose.of.flight</th>\n",
       "      <th>Total.Fatal.Injuries</th>\n",
       "      <th>Total.Serious.Injuries</th>\n",
       "      <th>Total.Minor.Injuries</th>\n",
       "      <th>Total.Uninjured</th>\n",
       "      <th>Weather.Condition</th>\n",
       "      <th>Broad.phase.of.flight</th>\n",
       "      <th>Fatal.rate</th>\n",
       "    </tr>\n",
       "  </thead>\n",
       "  <tbody>\n",
       "    <tr>\n",
       "      <th>0</th>\n",
       "      <td>SEA87LA080</td>\n",
       "      <td>Accident</td>\n",
       "      <td>1948</td>\n",
       "      <td>MOOSE CREEK, ID</td>\n",
       "      <td>United States</td>\n",
       "      <td>Fatal</td>\n",
       "      <td>Destroyed</td>\n",
       "      <td>Stinson</td>\n",
       "      <td>No</td>\n",
       "      <td>1.0</td>\n",
       "      <td>Reciprocating</td>\n",
       "      <td>Personal</td>\n",
       "      <td>2.0</td>\n",
       "      <td>0.0</td>\n",
       "      <td>0.0</td>\n",
       "      <td>0.0</td>\n",
       "      <td>Unknown</td>\n",
       "      <td>4</td>\n",
       "      <td>100.00</td>\n",
       "    </tr>\n",
       "    <tr>\n",
       "      <th>1</th>\n",
       "      <td>LAX94LA336</td>\n",
       "      <td>Accident</td>\n",
       "      <td>1962</td>\n",
       "      <td>BRIDGEPORT, CA</td>\n",
       "      <td>United States</td>\n",
       "      <td>Fatal</td>\n",
       "      <td>Destroyed</td>\n",
       "      <td>Piper</td>\n",
       "      <td>No</td>\n",
       "      <td>1.0</td>\n",
       "      <td>Reciprocating</td>\n",
       "      <td>Personal</td>\n",
       "      <td>4.0</td>\n",
       "      <td>0.0</td>\n",
       "      <td>0.0</td>\n",
       "      <td>0.0</td>\n",
       "      <td>Unknown</td>\n",
       "      <td>0</td>\n",
       "      <td>100.00</td>\n",
       "    </tr>\n",
       "    <tr>\n",
       "      <th>2</th>\n",
       "      <td>NYC07LA005</td>\n",
       "      <td>Accident</td>\n",
       "      <td>1974</td>\n",
       "      <td>Saltville, VA</td>\n",
       "      <td>United States</td>\n",
       "      <td>Fatal</td>\n",
       "      <td>Destroyed</td>\n",
       "      <td>Cessna</td>\n",
       "      <td>No</td>\n",
       "      <td>1.0</td>\n",
       "      <td>Reciprocating</td>\n",
       "      <td>Personal</td>\n",
       "      <td>3.0</td>\n",
       "      <td>0.0</td>\n",
       "      <td>0.0</td>\n",
       "      <td>1.0</td>\n",
       "      <td>Instrument Meterological Conditions</td>\n",
       "      <td>4</td>\n",
       "      <td>75.00</td>\n",
       "    </tr>\n",
       "    <tr>\n",
       "      <th>3</th>\n",
       "      <td>LAX96LA321</td>\n",
       "      <td>Accident</td>\n",
       "      <td>1977</td>\n",
       "      <td>EUREKA, CA</td>\n",
       "      <td>United States</td>\n",
       "      <td>Fatal</td>\n",
       "      <td>Destroyed</td>\n",
       "      <td>Rockwell</td>\n",
       "      <td>No</td>\n",
       "      <td>1.0</td>\n",
       "      <td>Reciprocating</td>\n",
       "      <td>Personal</td>\n",
       "      <td>2.0</td>\n",
       "      <td>0.0</td>\n",
       "      <td>0.0</td>\n",
       "      <td>0.0</td>\n",
       "      <td>Instrument Meterological Conditions</td>\n",
       "      <td>4</td>\n",
       "      <td>100.00</td>\n",
       "    </tr>\n",
       "    <tr>\n",
       "      <th>4</th>\n",
       "      <td>CHI79FA064</td>\n",
       "      <td>Accident</td>\n",
       "      <td>1979</td>\n",
       "      <td>Canton, OH</td>\n",
       "      <td>United States</td>\n",
       "      <td>Fatal</td>\n",
       "      <td>Destroyed</td>\n",
       "      <td>Cessna</td>\n",
       "      <td>No</td>\n",
       "      <td>1.0</td>\n",
       "      <td>Unknown</td>\n",
       "      <td>Personal</td>\n",
       "      <td>1.0</td>\n",
       "      <td>2.0</td>\n",
       "      <td>0.0</td>\n",
       "      <td>0.0</td>\n",
       "      <td>Visual Meteorological Conditions</td>\n",
       "      <td>3</td>\n",
       "      <td>33.33</td>\n",
       "    </tr>\n",
       "    <tr>\n",
       "      <th>...</th>\n",
       "      <td>...</td>\n",
       "      <td>...</td>\n",
       "      <td>...</td>\n",
       "      <td>...</td>\n",
       "      <td>...</td>\n",
       "      <td>...</td>\n",
       "      <td>...</td>\n",
       "      <td>...</td>\n",
       "      <td>...</td>\n",
       "      <td>...</td>\n",
       "      <td>...</td>\n",
       "      <td>...</td>\n",
       "      <td>...</td>\n",
       "      <td>...</td>\n",
       "      <td>...</td>\n",
       "      <td>...</td>\n",
       "      <td>...</td>\n",
       "      <td>...</td>\n",
       "      <td>...</td>\n",
       "    </tr>\n",
       "    <tr>\n",
       "      <th>87277</th>\n",
       "      <td>GAA22WA054</td>\n",
       "      <td>Accident</td>\n",
       "      <td>2021</td>\n",
       "      <td>Auxerre, OF</td>\n",
       "      <td>United States</td>\n",
       "      <td>Fatal</td>\n",
       "      <td>Destroyed</td>\n",
       "      <td>CIRRUS DESIGN CORP</td>\n",
       "      <td>N</td>\n",
       "      <td>1.0</td>\n",
       "      <td>Unknown</td>\n",
       "      <td>Unknown</td>\n",
       "      <td>1.0</td>\n",
       "      <td>0.0</td>\n",
       "      <td>0.0</td>\n",
       "      <td>0.0</td>\n",
       "      <td>Unknown</td>\n",
       "      <td>0</td>\n",
       "      <td>100.00</td>\n",
       "    </tr>\n",
       "    <tr>\n",
       "      <th>87278</th>\n",
       "      <td>WPR22LA069</td>\n",
       "      <td>Accident</td>\n",
       "      <td>2021</td>\n",
       "      <td>Auburn, CA</td>\n",
       "      <td>United States</td>\n",
       "      <td>Non-Fatal</td>\n",
       "      <td>Unknown</td>\n",
       "      <td>CESSNA</td>\n",
       "      <td>N</td>\n",
       "      <td>1.0</td>\n",
       "      <td>Unknown</td>\n",
       "      <td>Positioning</td>\n",
       "      <td>0.0</td>\n",
       "      <td>0.0</td>\n",
       "      <td>1.0</td>\n",
       "      <td>0.0</td>\n",
       "      <td>Unknown</td>\n",
       "      <td>0</td>\n",
       "      <td>0.00</td>\n",
       "    </tr>\n",
       "    <tr>\n",
       "      <th>87279</th>\n",
       "      <td>CEN22FA082</td>\n",
       "      <td>Accident</td>\n",
       "      <td>2021</td>\n",
       "      <td>Hardy, AR</td>\n",
       "      <td>United States</td>\n",
       "      <td>Fatal</td>\n",
       "      <td>Unknown</td>\n",
       "      <td>CESSNA</td>\n",
       "      <td>N</td>\n",
       "      <td>1.0</td>\n",
       "      <td>Unknown</td>\n",
       "      <td>Personal</td>\n",
       "      <td>2.0</td>\n",
       "      <td>0.0</td>\n",
       "      <td>0.0</td>\n",
       "      <td>0.0</td>\n",
       "      <td>Unknown</td>\n",
       "      <td>0</td>\n",
       "      <td>100.00</td>\n",
       "    </tr>\n",
       "    <tr>\n",
       "      <th>87280</th>\n",
       "      <td>ERA22LA097</td>\n",
       "      <td>Accident</td>\n",
       "      <td>2021</td>\n",
       "      <td>Marathon, FL</td>\n",
       "      <td>United States</td>\n",
       "      <td>Non-Fatal</td>\n",
       "      <td>Unknown</td>\n",
       "      <td>CESSNA</td>\n",
       "      <td>N</td>\n",
       "      <td>1.0</td>\n",
       "      <td>Unknown</td>\n",
       "      <td>Unknown</td>\n",
       "      <td>0.0</td>\n",
       "      <td>3.0</td>\n",
       "      <td>0.0</td>\n",
       "      <td>0.0</td>\n",
       "      <td>Unknown</td>\n",
       "      <td>0</td>\n",
       "      <td>0.00</td>\n",
       "    </tr>\n",
       "    <tr>\n",
       "      <th>87281</th>\n",
       "      <td>GAA22WA047</td>\n",
       "      <td>Accident</td>\n",
       "      <td>2022</td>\n",
       "      <td>La Aurora, OF</td>\n",
       "      <td>PACIFIC OCEAN</td>\n",
       "      <td>Non-Fatal</td>\n",
       "      <td>Substantial</td>\n",
       "      <td>MOONEY</td>\n",
       "      <td>N</td>\n",
       "      <td>1.0</td>\n",
       "      <td>Unknown</td>\n",
       "      <td>Unknown</td>\n",
       "      <td>0.0</td>\n",
       "      <td>0.0</td>\n",
       "      <td>0.0</td>\n",
       "      <td>3.0</td>\n",
       "      <td>Unknown</td>\n",
       "      <td>0</td>\n",
       "      <td>0.00</td>\n",
       "    </tr>\n",
       "  </tbody>\n",
       "</table>\n",
       "<p>87282 rows × 19 columns</p>\n",
       "</div>"
      ],
      "text/plain": [
       "      Accident.Number Investigation.Type  Event Year         Location  \\\n",
       "0          SEA87LA080           Accident        1948  MOOSE CREEK, ID   \n",
       "1          LAX94LA336           Accident        1962   BRIDGEPORT, CA   \n",
       "2          NYC07LA005           Accident        1974    Saltville, VA   \n",
       "3          LAX96LA321           Accident        1977       EUREKA, CA   \n",
       "4          CHI79FA064           Accident        1979       Canton, OH   \n",
       "...               ...                ...         ...              ...   \n",
       "87277      GAA22WA054           Accident        2021      Auxerre, OF   \n",
       "87278      WPR22LA069           Accident        2021       Auburn, CA   \n",
       "87279      CEN22FA082           Accident        2021        Hardy, AR   \n",
       "87280      ERA22LA097           Accident        2021     Marathon, FL   \n",
       "87281      GAA22WA047           Accident        2022    La Aurora, OF   \n",
       "\n",
       "             Country Injury.Severity Aircraft.damage                Make  \\\n",
       "0      United States           Fatal       Destroyed             Stinson   \n",
       "1      United States           Fatal       Destroyed               Piper   \n",
       "2      United States           Fatal       Destroyed              Cessna   \n",
       "3      United States           Fatal       Destroyed            Rockwell   \n",
       "4      United States           Fatal       Destroyed              Cessna   \n",
       "...              ...             ...             ...                 ...   \n",
       "87277  United States           Fatal       Destroyed  CIRRUS DESIGN CORP   \n",
       "87278  United States       Non-Fatal         Unknown              CESSNA   \n",
       "87279  United States           Fatal         Unknown              CESSNA   \n",
       "87280  United States       Non-Fatal         Unknown              CESSNA   \n",
       "87281  PACIFIC OCEAN       Non-Fatal     Substantial              MOONEY   \n",
       "\n",
       "      Amateur.Built  Number.of.Engines    Engine.Type Purpose.of.flight  \\\n",
       "0                No                1.0  Reciprocating          Personal   \n",
       "1                No                1.0  Reciprocating          Personal   \n",
       "2                No                1.0  Reciprocating          Personal   \n",
       "3                No                1.0  Reciprocating          Personal   \n",
       "4                No                1.0        Unknown          Personal   \n",
       "...             ...                ...            ...               ...   \n",
       "87277             N                1.0        Unknown           Unknown   \n",
       "87278             N                1.0        Unknown       Positioning   \n",
       "87279             N                1.0        Unknown          Personal   \n",
       "87280             N                1.0        Unknown           Unknown   \n",
       "87281             N                1.0        Unknown           Unknown   \n",
       "\n",
       "       Total.Fatal.Injuries  Total.Serious.Injuries  Total.Minor.Injuries  \\\n",
       "0                       2.0                     0.0                   0.0   \n",
       "1                       4.0                     0.0                   0.0   \n",
       "2                       3.0                     0.0                   0.0   \n",
       "3                       2.0                     0.0                   0.0   \n",
       "4                       1.0                     2.0                   0.0   \n",
       "...                     ...                     ...                   ...   \n",
       "87277                   1.0                     0.0                   0.0   \n",
       "87278                   0.0                     0.0                   1.0   \n",
       "87279                   2.0                     0.0                   0.0   \n",
       "87280                   0.0                     3.0                   0.0   \n",
       "87281                   0.0                     0.0                   0.0   \n",
       "\n",
       "       Total.Uninjured                    Weather.Condition  \\\n",
       "0                  0.0                              Unknown   \n",
       "1                  0.0                              Unknown   \n",
       "2                  1.0  Instrument Meterological Conditions   \n",
       "3                  0.0  Instrument Meterological Conditions   \n",
       "4                  0.0     Visual Meteorological Conditions   \n",
       "...                ...                                  ...   \n",
       "87277              0.0                              Unknown   \n",
       "87278              0.0                              Unknown   \n",
       "87279              0.0                              Unknown   \n",
       "87280              0.0                              Unknown   \n",
       "87281              3.0                              Unknown   \n",
       "\n",
       "       Broad.phase.of.flight  Fatal.rate  \n",
       "0                          4      100.00  \n",
       "1                          0      100.00  \n",
       "2                          4       75.00  \n",
       "3                          4      100.00  \n",
       "4                          3       33.33  \n",
       "...                      ...         ...  \n",
       "87277                      0      100.00  \n",
       "87278                      0        0.00  \n",
       "87279                      0      100.00  \n",
       "87280                      0        0.00  \n",
       "87281                      0        0.00  \n",
       "\n",
       "[87282 rows x 19 columns]"
      ]
     },
     "execution_count": 31,
     "metadata": {},
     "output_type": "execute_result"
    }
   ],
   "source": [
    "rate_list = []\n",
    "count = 0\n",
    "fatal_list = avi_acc[\"Total.Fatal.Injuries\"].tolist()\n",
    "serious_list = avi_acc[\"Total.Serious.Injuries\"].tolist()\n",
    "minor_list = avi_acc[\"Total.Minor.Injuries\"].tolist()\n",
    "no_list = avi_acc[\"Total.Uninjured\"].tolist()\n",
    "\n",
    "for i in range(0,len(avi_acc)):\n",
    "    try:\n",
    "        rate = round(((fatal_list[i])/(fatal_list[i]+serious_list[i]+minor_list[i]+no_list[i])*100),2)\n",
    "    except: #fatal_list[i] = serious_list[i] = minor_list[i] = no_list[i] = 0\n",
    "        rate = 0\n",
    "    rate_list.append(rate)\n",
    "rate_df = pd.DataFrame(rate_list)\n",
    "avi_acc[\"Fatal.rate\"] = rate_df\n",
    "avi_acc"
   ]
  },
  {
   "cell_type": "markdown",
   "id": "b3ab31ab",
   "metadata": {},
   "source": [
    "### Number of plane\n",
    "\n",
    "Let's us now look at the variable `Accident.Number`.\n",
    "If there is presence of character **A or B or C** at the back of the serial number, it shows that this incident involves more than one plane."
   ]
  },
  {
   "cell_type": "code",
   "execution_count": 32,
   "id": "f78c0c60",
   "metadata": {},
   "outputs": [],
   "source": [
    "sp2df = avi_acc.copy()\n",
    "list1 = []\n",
    "list2 = []\n",
    "final_list = []\n",
    "\n",
    "for i in sp2df[\"Accident.Number\"]:\n",
    "    if i[-1] in [\"A\",\"B\",\"C\"]:\n",
    "        list1.append(i)\n",
    "list1.sort()\n",
    "\n",
    "for k in sp2df[\"Accident.Number\"]:\n",
    "    if k[-1] in \"C\":\n",
    "        list2.append(k[0:-1])\n",
    "        \n",
    "for j in sp2df[\"Accident.Number\"]:\n",
    "    if j not in list1:\n",
    "        final_list.append(1)\n",
    "    elif j[0:-1] in list2:\n",
    "        final_list.append(3)\n",
    "    else:\n",
    "        final_list.append(2)\n",
    "        \n",
    "avi_acc[\"Number of plane involved\"] = final_list"
   ]
  },
  {
   "cell_type": "markdown",
   "id": "eda14b10",
   "metadata": {},
   "source": [
    "Notice that the number of plane involved in aviation accident is now extracted out from the `accident number` dataset."
   ]
  },
  {
   "cell_type": "code",
   "execution_count": 33,
   "id": "d2186d8d",
   "metadata": {},
   "outputs": [
    {
     "data": {
      "text/plain": [
       "1    85459\n",
       "2     1817\n",
       "3        6\n",
       "Name: Number of plane involved, dtype: int64"
      ]
     },
     "execution_count": 33,
     "metadata": {},
     "output_type": "execute_result"
    }
   ],
   "source": [
    "avi_acc[\"Number of plane involved\"].value_counts()"
   ]
  },
  {
   "cell_type": "markdown",
   "id": "a8e27bd8",
   "metadata": {},
   "source": [
    "### Make \n",
    "\n",
    "Notice that some of the data are seperated into two different groups despite being the same **Make** category, for example Boeing and BOEING, Piper and PIPER. Hence, some of the data cleaning is required to clean up the data for better Exploratory Data Analysis and Visualisation. "
   ]
  },
  {
   "cell_type": "code",
   "execution_count": 34,
   "id": "a7e8aa7c",
   "metadata": {},
   "outputs": [
    {
     "name": "stdout",
     "output_type": "stream",
     "text": [
      "Total number of unique MAKE data:\t 8045\n"
     ]
    },
    {
     "data": {
      "text/plain": [
       "Cessna                   22227\n",
       "Piper                    12029\n",
       "CESSNA                    4549\n",
       "Beech                     4329\n",
       "PIPER                     2618\n",
       "                         ...  \n",
       "Harwell/gardner              1\n",
       "Galaxy Balloons, Inc.        1\n",
       "Moseler                      1\n",
       "University Of Alabama        1\n",
       "CAMERON BALLOONS U S         1\n",
       "Name: Make, Length: 8045, dtype: int64"
      ]
     },
     "execution_count": 34,
     "metadata": {},
     "output_type": "execute_result"
    }
   ],
   "source": [
    "print(\"Total number of unique MAKE data:\\t\", len(avi_acc[\"Make\"].unique()))\n",
    "avi_acc[\"Make\"].value_counts()"
   ]
  },
  {
   "cell_type": "markdown",
   "id": "b99b99ac",
   "metadata": {},
   "source": [
    "To make sure there is no error in categorical data, we will rename all the `Make` data to become upper case and replace the original data.  "
   ]
  },
  {
   "cell_type": "code",
   "execution_count": 35,
   "id": "cf474204",
   "metadata": {},
   "outputs": [],
   "source": [
    "make_list = []\n",
    "for i in avi_acc[\"Make\"]:\n",
    "    make_list.append(i.upper())\n",
    "avi_acc[\"Make\"] = make_list"
   ]
  },
  {
   "cell_type": "markdown",
   "id": "65a80fc7",
   "metadata": {},
   "source": [
    "Notice that after cleaning the number of unique MAKE data reduce from 8406 to 7409."
   ]
  },
  {
   "cell_type": "code",
   "execution_count": 36,
   "id": "5afef897",
   "metadata": {},
   "outputs": [
    {
     "name": "stdout",
     "output_type": "stream",
     "text": [
      "Total number of unique MAKE data after cleaning:\t 7408\n"
     ]
    },
    {
     "data": {
      "text/plain": [
       "CESSNA                  26776\n",
       "PIPER                   14647\n",
       "BEECH                    5305\n",
       "BELL                     2672\n",
       "BOEING                   2648\n",
       "                        ...  \n",
       "ARNET PEREYRA AERO          1\n",
       "WILLIAM JOHN SCHULZ         1\n",
       "WILLIAM JAY KINNEY          1\n",
       "HAERING AVID FLYER          1\n",
       "CAMERON BALLOONS U S        1\n",
       "Name: Make, Length: 7408, dtype: int64"
      ]
     },
     "execution_count": 36,
     "metadata": {},
     "output_type": "execute_result"
    }
   ],
   "source": [
    "print(\"Total number of unique MAKE data after cleaning:\\t\", len(avi_acc[\"Make\"].unique()))\n",
    "avi_acc[\"Make\"].value_counts()"
   ]
  },
  {
   "cell_type": "markdown",
   "id": "af9e79ee",
   "metadata": {},
   "source": [
    "### Amateur Built\n",
    "\n",
    "Notice that for **Amateur Built**, the categorical data are divided into **Yes**, **Y**, **No**, **N** and **NotDefined**. The categorical variables seem to be reduntant of each other. Hence, we will work on grouping the data of the same type together.\n",
    "\n",
    "| Previous | Current |\n",
    "| :-----------| :---------- |\n",
    "| Yes/Y | Yes |\n",
    "| No/N | No |\n",
    "| Unknown | Unknown |"
   ]
  },
  {
   "cell_type": "code",
   "execution_count": 37,
   "id": "c2bd0070",
   "metadata": {},
   "outputs": [
    {
     "name": "stdout",
     "output_type": "stream",
     "text": [
      "Number of unique data of Amateur Built:\t 5\n"
     ]
    },
    {
     "data": {
      "text/plain": [
       "No         58165\n",
       "N          20661\n",
       "Yes         5646\n",
       "Y           2708\n",
       "Unknown      102\n",
       "Name: Amateur.Built, dtype: int64"
      ]
     },
     "execution_count": 37,
     "metadata": {},
     "output_type": "execute_result"
    }
   ],
   "source": [
    "print(\"Number of unique data of Amateur Built:\\t\", len(avi_acc[\"Amateur.Built\"].unique()))\n",
    "avi_acc[\"Amateur.Built\"].value_counts()"
   ]
  },
  {
   "cell_type": "code",
   "execution_count": 38,
   "id": "a6e60427",
   "metadata": {},
   "outputs": [],
   "source": [
    "ama_list = []\n",
    "for i in avi_acc[\"Amateur.Built\"]:\n",
    "    if i in [\"No\", \"N\"]:\n",
    "        ama_list.append(\"No\")\n",
    "    elif i in [\"Yes\", \"Y\"]:\n",
    "        ama_list.append(\"Yes\")\n",
    "    else:\n",
    "        ama_list.append(\"Unknown\")\n",
    "avi_acc[\"Amateur.Built\"] = ama_list"
   ]
  },
  {
   "cell_type": "markdown",
   "id": "c77aca9f",
   "metadata": {},
   "source": [
    "Notice that the unique data of Amateur Built has reduced to **3 types** from **5 types**.   "
   ]
  },
  {
   "cell_type": "code",
   "execution_count": 39,
   "id": "d7db16d7",
   "metadata": {},
   "outputs": [
    {
     "name": "stdout",
     "output_type": "stream",
     "text": [
      "Number of unique data of Amateur Built:\t 3\n"
     ]
    },
    {
     "data": {
      "text/plain": [
       "No         78826\n",
       "Yes         8354\n",
       "Unknown      102\n",
       "Name: Amateur.Built, dtype: int64"
      ]
     },
     "execution_count": 39,
     "metadata": {},
     "output_type": "execute_result"
    }
   ],
   "source": [
    "print(\"Number of unique data of Amateur Built:\\t\", len(avi_acc[\"Amateur.Built\"].unique()))\n",
    "avi_acc[\"Amateur.Built\"].value_counts()"
   ]
  },
  {
   "cell_type": "markdown",
   "id": "ec8ffffc",
   "metadata": {},
   "source": [
    "### Change of data types\n",
    "\n",
    "We will now manipulate the data types to fascilitate **Exploratory Data Analysis & Visualisation** and reduce the memory for a better coding runtime. "
   ]
  },
  {
   "cell_type": "code",
   "execution_count": 40,
   "id": "37187faf",
   "metadata": {},
   "outputs": [],
   "source": [
    "def convert_category(data, *args):\n",
    "    for k in args:\n",
    "        data[k] = data[k].astype(\"category\")\n",
    "\n",
    "def convert_float32(data, *args):\n",
    "    for k in args:\n",
    "        data[k] = data[k].astype(\"float32\")\n",
    "        \n",
    "convert_category(avi_acc, [\"Accident.Number\", \"Investigation.Type\", \"Location\", \"Country\", \"Injury.Severity\", \n",
    "                         \"Aircraft.damage\",  \"Make\", \"Amateur.Built\", \"Engine.Type\", \"Purpose.of.flight\", \n",
    "                        \"Weather.Condition\", \"Broad.phase.of.flight\", \"Event Year\"])\n",
    "convert_float32(avi_acc, [\"Total.Fatal.Injuries\", \"Total.Serious.Injuries\", \"Total.Minor.Injuries\", \"Total.Uninjured\",\n",
    "                          \"Fatal.rate\", \"Number of plane involved\", \"Number.of.Engines\"])"
   ]
  },
  {
   "cell_type": "code",
   "execution_count": 41,
   "id": "f467d99b",
   "metadata": {},
   "outputs": [
    {
     "name": "stdout",
     "output_type": "stream",
     "text": [
      "<class 'pandas.core.frame.DataFrame'>\n",
      "RangeIndex: 87282 entries, 0 to 87281\n",
      "Data columns (total 20 columns):\n",
      " #   Column                    Non-Null Count  Dtype   \n",
      "---  ------                    --------------  -----   \n",
      " 0   Accident.Number           87282 non-null  category\n",
      " 1   Investigation.Type        87282 non-null  category\n",
      " 2   Event Year                87282 non-null  category\n",
      " 3   Location                  87282 non-null  category\n",
      " 4   Country                   87282 non-null  category\n",
      " 5   Injury.Severity           87282 non-null  category\n",
      " 6   Aircraft.damage           87282 non-null  category\n",
      " 7   Make                      87282 non-null  category\n",
      " 8   Amateur.Built             87282 non-null  category\n",
      " 9   Number.of.Engines         87282 non-null  float32 \n",
      " 10  Engine.Type               87282 non-null  category\n",
      " 11  Purpose.of.flight         87282 non-null  category\n",
      " 12  Total.Fatal.Injuries      87282 non-null  float32 \n",
      " 13  Total.Serious.Injuries    87282 non-null  float32 \n",
      " 14  Total.Minor.Injuries      87282 non-null  float32 \n",
      " 15  Total.Uninjured           87282 non-null  float32 \n",
      " 16  Weather.Condition         87282 non-null  category\n",
      " 17  Broad.phase.of.flight     87282 non-null  category\n",
      " 18  Fatal.rate                87282 non-null  float32 \n",
      " 19  Number of plane involved  87282 non-null  float32 \n",
      "dtypes: category(13), float32(7)\n",
      "memory usage: 8.1 MB\n"
     ]
    }
   ],
   "source": [
    "avi_acc.info()"
   ]
  },
  {
   "cell_type": "code",
   "execution_count": 42,
   "id": "0e507252",
   "metadata": {},
   "outputs": [
    {
     "data": {
      "text/plain": [
       "Accident.Number             0\n",
       "Investigation.Type          0\n",
       "Event Year                  0\n",
       "Location                    0\n",
       "Country                     0\n",
       "Injury.Severity             0\n",
       "Aircraft.damage             0\n",
       "Make                        0\n",
       "Amateur.Built               0\n",
       "Number.of.Engines           0\n",
       "Engine.Type                 0\n",
       "Purpose.of.flight           0\n",
       "Total.Fatal.Injuries        0\n",
       "Total.Serious.Injuries      0\n",
       "Total.Minor.Injuries        0\n",
       "Total.Uninjured             0\n",
       "Weather.Condition           0\n",
       "Broad.phase.of.flight       0\n",
       "Fatal.rate                  0\n",
       "Number of plane involved    0\n",
       "dtype: int64"
      ]
     },
     "execution_count": 42,
     "metadata": {},
     "output_type": "execute_result"
    }
   ],
   "source": [
    "avi_acc.isnull().sum()"
   ]
  },
  {
   "cell_type": "markdown",
   "id": "1e99358c",
   "metadata": {},
   "source": [
    "We will now export the modified csv file. "
   ]
  },
  {
   "cell_type": "code",
   "execution_count": 43,
   "id": "b23710eb",
   "metadata": {},
   "outputs": [],
   "source": [
    "avi_acc.to_csv('Cleaned Aviation Data.csv')"
   ]
  }
 ],
 "metadata": {
  "kernelspec": {
   "display_name": "Python 3 (ipykernel)",
   "language": "python",
   "name": "python3"
  },
  "language_info": {
   "codemirror_mode": {
    "name": "ipython",
    "version": 3
   },
   "file_extension": ".py",
   "mimetype": "text/x-python",
   "name": "python",
   "nbconvert_exporter": "python",
   "pygments_lexer": "ipython3",
   "version": "3.9.13"
  }
 },
 "nbformat": 4,
 "nbformat_minor": 5
}
